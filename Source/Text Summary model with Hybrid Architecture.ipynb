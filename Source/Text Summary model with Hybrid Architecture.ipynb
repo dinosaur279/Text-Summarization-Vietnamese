{
 "cells": [
  {
   "cell_type": "code",
   "execution_count": 1,
   "id": "380a3367",
   "metadata": {
    "execution": {
     "iopub.execute_input": "2022-05-14T14:20:57.272883Z",
     "iopub.status.busy": "2022-05-14T14:20:57.272161Z",
     "iopub.status.idle": "2022-05-14T14:21:18.691095Z",
     "shell.execute_reply": "2022-05-14T14:21:18.690004Z"
    },
    "papermill": {
     "duration": 21.488367,
     "end_time": "2022-05-14T14:21:18.693756",
     "exception": false,
     "start_time": "2022-05-14T14:20:57.205389",
     "status": "completed"
    },
    "tags": []
   },
   "outputs": [],
   "source": [
    "%%capture\n",
    "# Install the vncorenlp python wrapper\n",
    "!pip install vncorenlp\n",
    "\n",
    "# Download VnCoreNLP-1.1.1.jar & its word segmentation component (i.e. RDRSegmenter) \n",
    "!mkdir -p vncorenlp/models/wordsegmenter\n",
    "!wget https://raw.githubusercontent.com/vncorenlp/VnCoreNLP/master/VnCoreNLP-1.1.1.jar\n",
    "!wget https://raw.githubusercontent.com/vncorenlp/VnCoreNLP/master/models/wordsegmenter/vi-vocab\n",
    "!wget https://raw.githubusercontent.com/vncorenlp/VnCoreNLP/master/models/wordsegmenter/wordsegmenter.rdr\n",
    "!mv VnCoreNLP-1.1.1.jar vncorenlp/ \n",
    "!mv vi-vocab vncorenlp/models/wordsegmenter/\n",
    "!mv wordsegmenter.rdr vncorenlp/models/wordsegmenter/"
   ]
  },
  {
   "cell_type": "code",
   "execution_count": 2,
   "id": "7d723c2b",
   "metadata": {
    "execution": {
     "iopub.execute_input": "2022-05-14T14:21:18.822065Z",
     "iopub.status.busy": "2022-05-14T14:21:18.821716Z",
     "iopub.status.idle": "2022-05-14T14:21:27.313495Z",
     "shell.execute_reply": "2022-05-14T14:21:27.312239Z"
    },
    "papermill": {
     "duration": 8.557732,
     "end_time": "2022-05-14T14:21:27.316232",
     "exception": false,
     "start_time": "2022-05-14T14:21:18.758500",
     "status": "completed"
    },
    "tags": []
   },
   "outputs": [],
   "source": [
    "import os\n",
    "import re\n",
    "import pickle\n",
    "import string\n",
    "import unicodedata\n",
    "from random import randint\n",
    "\n",
    "import numpy as np\n",
    "import pandas as pd\n",
    "import seaborn as sns\n",
    "import matplotlib.pyplot as plt\n",
    "\n",
    "from nltk.corpus import stopwords\n",
    "from wordcloud import STOPWORDS, WordCloud\n",
    "\n",
    "from sklearn.model_selection import train_test_split\n",
    "\n",
    "import tensorflow as tf\n",
    "from tensorflow.keras import Input, Model\n",
    "from tensorflow.keras.preprocessing.text import Tokenizer\n",
    "from tensorflow.keras.preprocessing.sequence import pad_sequences\n",
    "from tensorflow.keras.callbacks import EarlyStopping, ReduceLROnPlateau\n",
    "from tensorflow.keras.layers import LSTM, Bidirectional, Dense, Embedding, TimeDistributed"
   ]
  },
  {
   "cell_type": "code",
   "execution_count": 3,
   "id": "63414bee",
   "metadata": {
    "execution": {
     "iopub.execute_input": "2022-05-14T14:21:27.450991Z",
     "iopub.status.busy": "2022-05-14T14:21:27.450684Z",
     "iopub.status.idle": "2022-05-14T14:21:41.657593Z",
     "shell.execute_reply": "2022-05-14T14:21:41.656258Z"
    },
    "papermill": {
     "duration": 14.275098,
     "end_time": "2022-05-14T14:21:41.660534",
     "exception": false,
     "start_time": "2022-05-14T14:21:27.385436",
     "status": "completed"
    },
    "tags": []
   },
   "outputs": [
    {
     "name": "stdout",
     "output_type": "stream",
     "text": [
      "Dataset size: 102681\n"
     ]
    },
    {
     "name": "stderr",
     "output_type": "stream",
     "text": [
      "/opt/conda/lib/python3.7/site-packages/ipykernel_launcher.py:2: FutureWarning: In a future version of pandas all arguments of DataFrame.drop except for the argument 'labels' will be keyword-only\n",
      "  \n"
     ]
    },
    {
     "data": {
      "text/html": [
       "<div>\n",
       "<style scoped>\n",
       "    .dataframe tbody tr th:only-of-type {\n",
       "        vertical-align: middle;\n",
       "    }\n",
       "\n",
       "    .dataframe tbody tr th {\n",
       "        vertical-align: top;\n",
       "    }\n",
       "\n",
       "    .dataframe thead th {\n",
       "        text-align: right;\n",
       "    }\n",
       "</style>\n",
       "<table border=\"1\" class=\"dataframe\">\n",
       "  <thead>\n",
       "    <tr style=\"text-align: right;\">\n",
       "      <th></th>\n",
       "      <th>Summary</th>\n",
       "      <th>Text</th>\n",
       "    </tr>\n",
       "  </thead>\n",
       "  <tbody>\n",
       "    <tr>\n",
       "      <th>0</th>\n",
       "      <td>Ngay khi bắt tay ai đó có thể chúng ta đã cảm ...</td>\n",
       "      <td>Tổng thống Mỹ Donald Trump và Tổng thống Pháp ...</td>\n",
       "    </tr>\n",
       "    <tr>\n",
       "      <th>1</th>\n",
       "      <td>Rời khỏi Việt Nam vào 10/2016, ông Vũ Đình Duy...</td>\n",
       "      <td>Vũ Đình Duy hồi tháng 5 xuất hiện trước tòa tạ...</td>\n",
       "    </tr>\n",
       "    <tr>\n",
       "      <th>2</th>\n",
       "      <td>Thủ tướng Iraq xác nhận với BBC rằng Syria khô...</td>\n",
       "      <td>Ông Maliki xác nhận các vụ không kích của Syri...</td>\n",
       "    </tr>\n",
       "    <tr>\n",
       "      <th>3</th>\n",
       "      <td>Người Việt Nam biết rất ít về ông Trump nhưng ...</td>\n",
       "      <td>Tiến sỹ Vũ Cao Phan tin rằng nếu được tiến hàn...</td>\n",
       "    </tr>\n",
       "    <tr>\n",
       "      <th>4</th>\n",
       "      <td>Bốn khoa học gia người Mỹ từng đoạt giải Nobel...</td>\n",
       "      <td>GS Jack Steinberger trao đổi với GS Lê Kim Ngọ...</td>\n",
       "    </tr>\n",
       "  </tbody>\n",
       "</table>\n",
       "</div>"
      ],
      "text/plain": [
       "                                             Summary  \\\n",
       "0  Ngay khi bắt tay ai đó có thể chúng ta đã cảm ...   \n",
       "1  Rời khỏi Việt Nam vào 10/2016, ông Vũ Đình Duy...   \n",
       "2  Thủ tướng Iraq xác nhận với BBC rằng Syria khô...   \n",
       "3  Người Việt Nam biết rất ít về ông Trump nhưng ...   \n",
       "4  Bốn khoa học gia người Mỹ từng đoạt giải Nobel...   \n",
       "\n",
       "                                                Text  \n",
       "0  Tổng thống Mỹ Donald Trump và Tổng thống Pháp ...  \n",
       "1  Vũ Đình Duy hồi tháng 5 xuất hiện trước tòa tạ...  \n",
       "2  Ông Maliki xác nhận các vụ không kích của Syri...  \n",
       "3  Tiến sỹ Vũ Cao Phan tin rằng nếu được tiến hàn...  \n",
       "4  GS Jack Steinberger trao đổi với GS Lê Kim Ngọ...  "
      ]
     },
     "execution_count": 3,
     "metadata": {},
     "output_type": "execute_result"
    }
   ],
   "source": [
    "filename = r\"../input/summary-vietnamese/data_summary.csv\"\n",
    "df = pd.read_csv(filename).drop('Unnamed: 0',1)\n",
    "print(f'Dataset size: {len(df)}')\n",
    "df.head(5)"
   ]
  },
  {
   "cell_type": "code",
   "execution_count": 4,
   "id": "eb93c34d",
   "metadata": {
    "execution": {
     "iopub.execute_input": "2022-05-14T14:21:41.794586Z",
     "iopub.status.busy": "2022-05-14T14:21:41.794263Z",
     "iopub.status.idle": "2022-05-14T14:21:42.326545Z",
     "shell.execute_reply": "2022-05-14T14:21:42.325764Z"
    },
    "papermill": {
     "duration": 0.603221,
     "end_time": "2022-05-14T14:21:42.330823",
     "exception": false,
     "start_time": "2022-05-14T14:21:41.727602",
     "status": "completed"
    },
    "tags": []
   },
   "outputs": [
    {
     "name": "stdout",
     "output_type": "stream",
     "text": [
      "Dataset size: 96284\n"
     ]
    },
    {
     "data": {
      "text/html": [
       "<div>\n",
       "<style scoped>\n",
       "    .dataframe tbody tr th:only-of-type {\n",
       "        vertical-align: middle;\n",
       "    }\n",
       "\n",
       "    .dataframe tbody tr th {\n",
       "        vertical-align: top;\n",
       "    }\n",
       "\n",
       "    .dataframe thead th {\n",
       "        text-align: right;\n",
       "    }\n",
       "</style>\n",
       "<table border=\"1\" class=\"dataframe\">\n",
       "  <thead>\n",
       "    <tr style=\"text-align: right;\">\n",
       "      <th></th>\n",
       "      <th>Summary</th>\n",
       "      <th>Text</th>\n",
       "    </tr>\n",
       "  </thead>\n",
       "  <tbody>\n",
       "    <tr>\n",
       "      <th>0</th>\n",
       "      <td>Ngay khi bắt tay ai đó có thể chúng ta đã cảm ...</td>\n",
       "      <td>Tổng thống Mỹ Donald Trump và Tổng thống Pháp ...</td>\n",
       "    </tr>\n",
       "    <tr>\n",
       "      <th>1</th>\n",
       "      <td>Rời khỏi Việt Nam vào 10/2016, ông Vũ Đình Duy...</td>\n",
       "      <td>Vũ Đình Duy hồi tháng 5 xuất hiện trước tòa tạ...</td>\n",
       "    </tr>\n",
       "    <tr>\n",
       "      <th>2</th>\n",
       "      <td>Thủ tướng Iraq xác nhận với BBC rằng Syria khô...</td>\n",
       "      <td>Ông Maliki xác nhận các vụ không kích của Syri...</td>\n",
       "    </tr>\n",
       "    <tr>\n",
       "      <th>3</th>\n",
       "      <td>Người Việt Nam biết rất ít về ông Trump nhưng ...</td>\n",
       "      <td>Tiến sỹ Vũ Cao Phan tin rằng nếu được tiến hàn...</td>\n",
       "    </tr>\n",
       "    <tr>\n",
       "      <th>4</th>\n",
       "      <td>Bốn khoa học gia người Mỹ từng đoạt giải Nobel...</td>\n",
       "      <td>GS Jack Steinberger trao đổi với GS Lê Kim Ngọ...</td>\n",
       "    </tr>\n",
       "  </tbody>\n",
       "</table>\n",
       "</div>"
      ],
      "text/plain": [
       "                                             Summary  \\\n",
       "0  Ngay khi bắt tay ai đó có thể chúng ta đã cảm ...   \n",
       "1  Rời khỏi Việt Nam vào 10/2016, ông Vũ Đình Duy...   \n",
       "2  Thủ tướng Iraq xác nhận với BBC rằng Syria khô...   \n",
       "3  Người Việt Nam biết rất ít về ông Trump nhưng ...   \n",
       "4  Bốn khoa học gia người Mỹ từng đoạt giải Nobel...   \n",
       "\n",
       "                                                Text  \n",
       "0  Tổng thống Mỹ Donald Trump và Tổng thống Pháp ...  \n",
       "1  Vũ Đình Duy hồi tháng 5 xuất hiện trước tòa tạ...  \n",
       "2  Ông Maliki xác nhận các vụ không kích của Syri...  \n",
       "3  Tiến sỹ Vũ Cao Phan tin rằng nếu được tiến hàn...  \n",
       "4  GS Jack Steinberger trao đổi với GS Lê Kim Ngọ...  "
      ]
     },
     "execution_count": 4,
     "metadata": {},
     "output_type": "execute_result"
    }
   ],
   "source": [
    "'''Loại bỏ các giá trị trùng lặp và giá trị rỗng'''\n",
    "\n",
    "df.drop_duplicates(subset=['Text'],inplace=True) #dropping duplicates\n",
    "df.dropna(axis=0,inplace=True) #dropping na\n",
    "df = df.reset_index().drop('index', axis = 1)\n",
    "print(f'Dataset size: {len(df)}')\n",
    "df.head(5)"
   ]
  },
  {
   "cell_type": "markdown",
   "id": "c0485294",
   "metadata": {
    "papermill": {
     "duration": 0.066553,
     "end_time": "2022-05-14T14:21:42.464694",
     "exception": false,
     "start_time": "2022-05-14T14:21:42.398141",
     "status": "completed"
    },
    "tags": []
   },
   "source": [
    "# Data preparation"
   ]
  },
  {
   "cell_type": "code",
   "execution_count": 5,
   "id": "a1aba1d1",
   "metadata": {
    "execution": {
     "iopub.execute_input": "2022-05-14T14:21:42.598269Z",
     "iopub.status.busy": "2022-05-14T14:21:42.597957Z",
     "iopub.status.idle": "2022-05-14T14:21:42.623597Z",
     "shell.execute_reply": "2022-05-14T14:21:42.622885Z"
    },
    "papermill": {
     "duration": 0.095362,
     "end_time": "2022-05-14T14:21:42.626176",
     "exception": false,
     "start_time": "2022-05-14T14:21:42.530814",
     "status": "completed"
    },
    "tags": []
   },
   "outputs": [],
   "source": [
    "def cleanWord(s):\n",
    "    miss = ['!','@','#','$','%','^','&','*','(',')','-','–','_','+','=','{','[','}',']','|',':',';','?','/','<','>','~','`','‘','’',',','()','“','\"', '...','”', '“”','\\\\', '>>', '>>>']\n",
    "    for i in miss:\n",
    "        s = s.replace(i,'')\n",
    "    return re.sub(r'\\'', '', s)\n",
    "\n",
    "def remove_link(string):\n",
    "    return re.sub(r'\\w+:\\/{2}[\\d\\w-]+(\\.[\\d\\w-]+)*(?:(?:\\/[^\\s/]*))*', '', string)\n",
    "\n",
    "def remove_extra_whitespace(string):\n",
    "    text = re.sub(r'\\s+', ' ', string).strip()\n",
    "    return text\n",
    "\n",
    "def lower_word(data):\n",
    "    return data.lower()\n",
    "\n",
    "# Remove numbers from text\n",
    "def rm_number_from_text(text):\n",
    "    text = re.sub('[0-9]+', '', text)\n",
    "    return ' '.join(text.split())  # to rm `extra` white space\n",
    "\n",
    "# Remove puncuation from word\n",
    "def rm_punc_from_word(word):\n",
    "    clean_alphabet_list = [alphabet for alphabet in word if alphabet not in string.punctuation]\n",
    "    return ''.join(clean_alphabet_list)\n",
    "\n",
    "# Remove puncuation from text\n",
    "def rm_punc_from_text(text):\n",
    "    clean_word_list = [rm_punc_from_word(word) for word in text]\n",
    "    return ''.join(clean_word_list)\n",
    "\n",
    "\n",
    "# Cleaning text\n",
    "def clean_text(text):\n",
    "    text = text.lower()\n",
    "    text = rm_number_from_text(text)\n",
    "    text = rm_punc_from_text(text)\n",
    "\n",
    "    # there are hyphen(–) in many titles, so replacing it with empty str\n",
    "    # this hyphen(–) is different from normal hyphen(-)\n",
    "    text = re.sub('–', '', text)\n",
    "    text = ' '.join(text.split())  # removing `extra` white spaces\n",
    "\n",
    "    # Removing unnecessary characters from text\n",
    "    text = re.sub(\"(\\\\t)\", ' ', str(text)).lower()\n",
    "    text = re.sub(\"(\\\\r)\", ' ', str(text)).lower()\n",
    "    text = re.sub(\"(\\\\n)\", ' ', str(text)).lower()\n",
    "\n",
    "    text = re.sub(\"(__+)\", ' ', str(text)).lower()\n",
    "    text = re.sub(\"(--+)\", ' ', str(text)).lower()\n",
    "    text = re.sub(\"(~~+)\", ' ', str(text)).lower()\n",
    "    text = re.sub(\"(\\+\\++)\", ' ', str(text)).lower()\n",
    "    text = re.sub(\"(\\.\\.+)\", ' ', str(text)).lower()\n",
    "\n",
    "    text = re.sub(r\"[<>()|&©ø\\[\\]\\'\\\",;?~*!]\", ' ', str(text)).lower()\n",
    "\n",
    "    text = re.sub(\"(mailto:)\", ' ', str(text)).lower()\n",
    "    text = re.sub(r\"(\\\\x9\\d)\", ' ', str(text)).lower()\n",
    "    text = re.sub(\"([iI][nN][cC]\\d+)\", 'INC_NUM', str(text)).lower()\n",
    "    text = re.sub(\"([cC][mM]\\d+)|([cC][hH][gG]\\d+)\", 'CM_NUM',str(text)).lower()\n",
    "\n",
    "    text = re.sub(\"(\\.\\s+)\", ' ', str(text)).lower()\n",
    "    text = re.sub(\"(\\-\\s+)\", ' ', str(text)).lower()\n",
    "    text = re.sub(\"(\\:\\s+)\", ' ', str(text)).lower()\n",
    "    text = re.sub(\"(\\s+.\\s+)\", ' ', str(text)).lower()\n",
    "\n",
    "    try:\n",
    "        url = re.search(r'((https*:\\/*)([^\\/\\s]+))(.[^\\s]+)', str(text))\n",
    "        repl_url = url.group(3)\n",
    "        text = re.sub(r'((https*:\\/*)([^\\/\\s]+))(.[^\\s]+)', repl_url, str(text))\n",
    "    except Exception as e:\n",
    "        pass\n",
    "\n",
    "    text = re.sub(\"(\\s+)\", ' ', str(text)).lower()\n",
    "    text = re.sub(\"(\\s+.\\s+)\", ' ', str(text)).lower()\n",
    "\n",
    "    return text\n",
    "\n",
    "def solve(string):\n",
    "    func = [lower_word, remove_link, remove_extra_whitespace, cleanWord, clean_text]\n",
    "    for i in func:\n",
    "        string = i(string)\n",
    "    return string"
   ]
  },
  {
   "cell_type": "code",
   "execution_count": 6,
   "id": "b1d7b7e1",
   "metadata": {
    "execution": {
     "iopub.execute_input": "2022-05-14T14:21:42.766959Z",
     "iopub.status.busy": "2022-05-14T14:21:42.766417Z",
     "iopub.status.idle": "2022-05-14T14:30:41.185394Z",
     "shell.execute_reply": "2022-05-14T14:30:41.183847Z"
    },
    "papermill": {
     "duration": 538.560248,
     "end_time": "2022-05-14T14:30:41.255236",
     "exception": false,
     "start_time": "2022-05-14T14:21:42.694988",
     "status": "completed"
    },
    "tags": []
   },
   "outputs": [
    {
     "data": {
      "text/html": [
       "<div>\n",
       "<style scoped>\n",
       "    .dataframe tbody tr th:only-of-type {\n",
       "        vertical-align: middle;\n",
       "    }\n",
       "\n",
       "    .dataframe tbody tr th {\n",
       "        vertical-align: top;\n",
       "    }\n",
       "\n",
       "    .dataframe thead th {\n",
       "        text-align: right;\n",
       "    }\n",
       "</style>\n",
       "<table border=\"1\" class=\"dataframe\">\n",
       "  <thead>\n",
       "    <tr style=\"text-align: right;\">\n",
       "      <th></th>\n",
       "      <th>Summary</th>\n",
       "      <th>Text</th>\n",
       "    </tr>\n",
       "  </thead>\n",
       "  <tbody>\n",
       "    <tr>\n",
       "      <th>0</th>\n",
       "      <td>ngay khi bắt tay ai đó có thể chúng ta đã cảm ...</td>\n",
       "      <td>tổng thống mỹ donald trump và tổng thống pháp ...</td>\n",
       "    </tr>\n",
       "    <tr>\n",
       "      <th>1</th>\n",
       "      <td>rời khỏi việt nam vào ông vũ đình duy tới sống...</td>\n",
       "      <td>vũ đình duy hồi tháng xuất hiện trước tòa tại ...</td>\n",
       "    </tr>\n",
       "    <tr>\n",
       "      <th>2</th>\n",
       "      <td>thủ tướng iraq xác nhận với bbc rằng syria khô...</td>\n",
       "      <td>ông maliki xác nhận các vụ không kích của syri...</td>\n",
       "    </tr>\n",
       "    <tr>\n",
       "      <th>3</th>\n",
       "      <td>người việt nam biết rất ít về ông trump nhưng ...</td>\n",
       "      <td>tiến sỹ vũ cao phan tin rằng nếu được tiến hàn...</td>\n",
       "    </tr>\n",
       "    <tr>\n",
       "      <th>4</th>\n",
       "      <td>bốn khoa học gia người mỹ từng đoạt giải nobel...</td>\n",
       "      <td>gs jack steinberger trao đổi với gs lê kim ngọ...</td>\n",
       "    </tr>\n",
       "  </tbody>\n",
       "</table>\n",
       "</div>"
      ],
      "text/plain": [
       "                                             Summary  \\\n",
       "0  ngay khi bắt tay ai đó có thể chúng ta đã cảm ...   \n",
       "1  rời khỏi việt nam vào ông vũ đình duy tới sống...   \n",
       "2  thủ tướng iraq xác nhận với bbc rằng syria khô...   \n",
       "3  người việt nam biết rất ít về ông trump nhưng ...   \n",
       "4  bốn khoa học gia người mỹ từng đoạt giải nobel...   \n",
       "\n",
       "                                                Text  \n",
       "0  tổng thống mỹ donald trump và tổng thống pháp ...  \n",
       "1  vũ đình duy hồi tháng xuất hiện trước tòa tại ...  \n",
       "2  ông maliki xác nhận các vụ không kích của syri...  \n",
       "3  tiến sỹ vũ cao phan tin rằng nếu được tiến hàn...  \n",
       "4  gs jack steinberger trao đổi với gs lê kim ngọ...  "
      ]
     },
     "execution_count": 6,
     "metadata": {},
     "output_type": "execute_result"
    }
   ],
   "source": [
    "df.Text = df.Text.apply(lambda x: solve(str(x)))\n",
    "df.Summary = df.Summary.apply(lambda x: solve(str(x)))\n",
    "df.head(5)"
   ]
  },
  {
   "cell_type": "markdown",
   "id": "71e10f1c",
   "metadata": {
    "papermill": {
     "duration": 0.078534,
     "end_time": "2022-05-14T14:30:41.404660",
     "exception": false,
     "start_time": "2022-05-14T14:30:41.326126",
     "status": "completed"
    },
    "tags": []
   },
   "source": [
    "Finding what should be the **maximum length** of **Text** and **Summary** that will be feed or accepted by the learning algorithm"
   ]
  },
  {
   "cell_type": "code",
   "execution_count": 7,
   "id": "3cfd570f",
   "metadata": {
    "execution": {
     "iopub.execute_input": "2022-05-14T14:30:41.543673Z",
     "iopub.status.busy": "2022-05-14T14:30:41.543363Z",
     "iopub.status.idle": "2022-05-14T14:30:48.853418Z",
     "shell.execute_reply": "2022-05-14T14:30:48.852488Z"
    },
    "papermill": {
     "duration": 7.384099,
     "end_time": "2022-05-14T14:30:48.855620",
     "exception": false,
     "start_time": "2022-05-14T14:30:41.471521",
     "status": "completed"
    },
    "tags": []
   },
   "outputs": [
    {
     "data": {
      "image/png": "[encoded data removed]",
      "text/plain": [
       "<Figure size 1152x288 with 2 Axes>"
      ]
     },
     "metadata": {
      "needs_background": "light"
     },
     "output_type": "display_data"
    }
   ],
   "source": [
    "text_count = [len(sentence.split()) for sentence in df.Text]\n",
    "summary_count = [len(sentence.split()) for sentence in df.Summary]\n",
    "\n",
    "pd.DataFrame({'Text': text_count, 'Summary': summary_count}).hist(bins=100, figsize=(16, 4))\n",
    "plt.show()"
   ]
  },
  {
   "cell_type": "code",
   "execution_count": 8,
   "id": "c97af262",
   "metadata": {
    "execution": {
     "iopub.execute_input": "2022-05-14T14:30:48.988634Z",
     "iopub.status.busy": "2022-05-14T14:30:48.988310Z",
     "iopub.status.idle": "2022-05-14T14:30:55.521677Z",
     "shell.execute_reply": "2022-05-14T14:30:55.520751Z"
    },
    "papermill": {
     "duration": 6.602342,
     "end_time": "2022-05-14T14:30:55.523863",
     "exception": false,
     "start_time": "2022-05-14T14:30:48.921521",
     "status": "completed"
    },
    "tags": []
   },
   "outputs": [
    {
     "name": "stdout",
     "output_type": "stream",
     "text": [
      "0.99\n",
      "0.15\n"
     ]
    }
   ],
   "source": [
    "# To check how many rows in a column has length (of the text) <= limit\n",
    "def get_word_percent(column, limit):\n",
    "    count = 0\n",
    "    for sentence in column:\n",
    "        if len(sentence.split()) <= limit:\n",
    "            count += 1\n",
    "\n",
    "    return round(count / len(column), 2)\n",
    "\n",
    "\n",
    "# Check how many % of summary have 0-60 words\n",
    "print(get_word_percent(df.Summary, 60))\n",
    "\n",
    "# Check how many % of text have 0-300 words\n",
    "print(get_word_percent(df.Text, 300))"
   ]
  },
  {
   "cell_type": "code",
   "execution_count": 9,
   "id": "72b8f999",
   "metadata": {
    "execution": {
     "iopub.execute_input": "2022-05-14T14:30:55.659081Z",
     "iopub.status.busy": "2022-05-14T14:30:55.658606Z",
     "iopub.status.idle": "2022-05-14T14:30:55.662556Z",
     "shell.execute_reply": "2022-05-14T14:30:55.661769Z"
    },
    "papermill": {
     "duration": 0.073593,
     "end_time": "2022-05-14T14:30:55.664425",
     "exception": false,
     "start_time": "2022-05-14T14:30:55.590832",
     "status": "completed"
    },
    "tags": []
   },
   "outputs": [],
   "source": [
    "max_text_len = 300\n",
    "max_summary_len = 60"
   ]
  },
  {
   "cell_type": "code",
   "execution_count": 10,
   "id": "fed5940b",
   "metadata": {
    "execution": {
     "iopub.execute_input": "2022-05-14T14:30:55.805706Z",
     "iopub.status.busy": "2022-05-14T14:30:55.804661Z",
     "iopub.status.idle": "2022-05-14T14:31:02.047176Z",
     "shell.execute_reply": "2022-05-14T14:31:02.046217Z"
    },
    "papermill": {
     "duration": 6.316752,
     "end_time": "2022-05-14T14:31:02.049260",
     "exception": false,
     "start_time": "2022-05-14T14:30:55.732508",
     "status": "completed"
    },
    "tags": []
   },
   "outputs": [
    {
     "name": "stdout",
     "output_type": "stream",
     "text": [
      "Dataset size: 14664\n"
     ]
    },
    {
     "data": {
      "text/html": [
       "<div>\n",
       "<style scoped>\n",
       "    .dataframe tbody tr th:only-of-type {\n",
       "        vertical-align: middle;\n",
       "    }\n",
       "\n",
       "    .dataframe tbody tr th {\n",
       "        vertical-align: top;\n",
       "    }\n",
       "\n",
       "    .dataframe thead th {\n",
       "        text-align: right;\n",
       "    }\n",
       "</style>\n",
       "<table border=\"1\" class=\"dataframe\">\n",
       "  <thead>\n",
       "    <tr style=\"text-align: right;\">\n",
       "      <th></th>\n",
       "      <th>Text</th>\n",
       "      <th>Summary</th>\n",
       "    </tr>\n",
       "  </thead>\n",
       "  <tbody>\n",
       "    <tr>\n",
       "      <th>0</th>\n",
       "      <td>ông maliki xác nhận các vụ không kích của syri...</td>\n",
       "      <td>thủ tướng iraq xác nhận với bbc rằng syria khô...</td>\n",
       "    </tr>\n",
       "    <tr>\n",
       "      <th>1</th>\n",
       "      <td>lý quang diệu được cho là người đứng đằng sau...</td>\n",
       "      <td>chính phủ singapore cho hay cựu thủ tướng ngườ...</td>\n",
       "    </tr>\n",
       "    <tr>\n",
       "      <th>2</th>\n",
       "      <td>ông hà kim ngọc thứ trưởng bộ ngoại giao phát ...</td>\n",
       "      <td>kết thúc phiên kiểm định định kỳ phổ quát về t...</td>\n",
       "    </tr>\n",
       "    <tr>\n",
       "      <th>3</th>\n",
       "      <td>hai bàn thắng của luis suarez hiệp một tạo lợi...</td>\n",
       "      <td>hlv manchester city manuel pellegrini tin rằng...</td>\n",
       "    </tr>\n",
       "    <tr>\n",
       "      <th>4</th>\n",
       "      <td>thủ hiến tiểu bang nam úc ông jay weatherill l...</td>\n",
       "      <td>một chính khách gốc việt từng là dân tỵ nạn ...</td>\n",
       "    </tr>\n",
       "  </tbody>\n",
       "</table>\n",
       "</div>"
      ],
      "text/plain": [
       "                                                Text  \\\n",
       "0  ông maliki xác nhận các vụ không kích của syri...   \n",
       "1  lý quang diệu được cho là người đứng đằng sau...   \n",
       "2  ông hà kim ngọc thứ trưởng bộ ngoại giao phát ...   \n",
       "3  hai bàn thắng của luis suarez hiệp một tạo lợi...   \n",
       "4  thủ hiến tiểu bang nam úc ông jay weatherill l...   \n",
       "\n",
       "                                             Summary  \n",
       "0  thủ tướng iraq xác nhận với bbc rằng syria khô...  \n",
       "1  chính phủ singapore cho hay cựu thủ tướng ngườ...  \n",
       "2  kết thúc phiên kiểm định định kỳ phổ quát về t...  \n",
       "3  hlv manchester city manuel pellegrini tin rằng...  \n",
       "4  một chính khách gốc việt từng là dân tỵ nạn ...  "
      ]
     },
     "execution_count": 10,
     "metadata": {},
     "output_type": "execute_result"
    }
   ],
   "source": [
    "# select the summary and text between their defined max lens respectively\n",
    "def trim_text_and_summary(df, max_text_len, max_summary_len):\n",
    "    cleaned_text = np.array(df['Text'])\n",
    "    cleaned_summary = np.array(df['Summary'])\n",
    "\n",
    "    short_text = []\n",
    "    short_summary = []\n",
    "\n",
    "    for i in range(len(cleaned_text)):\n",
    "        if len(cleaned_text[i].split()) <= max_text_len and len(\n",
    "            cleaned_summary[i].split()\n",
    "        ) <= max_summary_len:\n",
    "            short_text.append(cleaned_text[i])\n",
    "            short_summary.append(cleaned_summary[i])\n",
    "\n",
    "    df = pd.DataFrame({'Text': short_text, 'Summary': short_summary})\n",
    "    return df\n",
    "\n",
    "\n",
    "df = trim_text_and_summary(df, max_text_len, max_summary_len)\n",
    "print(f'Dataset size: {len(df)}')\n",
    "df.head(5)"
   ]
  },
  {
   "cell_type": "code",
   "execution_count": 11,
   "id": "8d759824",
   "metadata": {
    "execution": {
     "iopub.execute_input": "2022-05-14T14:31:02.187886Z",
     "iopub.status.busy": "2022-05-14T14:31:02.187280Z",
     "iopub.status.idle": "2022-05-14T14:31:07.772599Z",
     "shell.execute_reply": "2022-05-14T14:31:07.771261Z"
    },
    "papermill": {
     "duration": 5.657594,
     "end_time": "2022-05-14T14:31:07.775560",
     "exception": false,
     "start_time": "2022-05-14T14:31:02.117966",
     "status": "completed"
    },
    "tags": []
   },
   "outputs": [],
   "source": [
    "from vncorenlp import VnCoreNLP\n",
    "rdrsegmenter = VnCoreNLP(\"./vncorenlp/VnCoreNLP-1.1.1.jar\", annotators=\"wseg\", max_heap_size='-Xmx2g') "
   ]
  },
  {
   "cell_type": "code",
   "execution_count": 12,
   "id": "d422f1ed",
   "metadata": {
    "execution": {
     "iopub.execute_input": "2022-05-14T14:31:07.922551Z",
     "iopub.status.busy": "2022-05-14T14:31:07.922258Z",
     "iopub.status.idle": "2022-05-14T14:31:07.927945Z",
     "shell.execute_reply": "2022-05-14T14:31:07.927104Z"
    },
    "papermill": {
     "duration": 0.076275,
     "end_time": "2022-05-14T14:31:07.929932",
     "exception": false,
     "start_time": "2022-05-14T14:31:07.853657",
     "status": "completed"
    },
    "tags": []
   },
   "outputs": [],
   "source": [
    "def read_content(string):\n",
    "    original = rdrsegmenter.tokenize(string)\n",
    "    original = ' '.join([' '.join(x) for x in original])\n",
    "\n",
    "    return original"
   ]
  },
  {
   "cell_type": "code",
   "execution_count": 13,
   "id": "f255891e",
   "metadata": {
    "execution": {
     "iopub.execute_input": "2022-05-14T14:31:08.068706Z",
     "iopub.status.busy": "2022-05-14T14:31:08.068180Z",
     "iopub.status.idle": "2022-05-14T14:34:03.988532Z",
     "shell.execute_reply": "2022-05-14T14:34:03.987602Z"
    },
    "papermill": {
     "duration": 176.061824,
     "end_time": "2022-05-14T14:34:04.060088",
     "exception": false,
     "start_time": "2022-05-14T14:31:07.998264",
     "status": "completed"
    },
    "tags": []
   },
   "outputs": [
    {
     "data": {
      "text/html": [
       "<div>\n",
       "<style scoped>\n",
       "    .dataframe tbody tr th:only-of-type {\n",
       "        vertical-align: middle;\n",
       "    }\n",
       "\n",
       "    .dataframe tbody tr th {\n",
       "        vertical-align: top;\n",
       "    }\n",
       "\n",
       "    .dataframe thead th {\n",
       "        text-align: right;\n",
       "    }\n",
       "</style>\n",
       "<table border=\"1\" class=\"dataframe\">\n",
       "  <thead>\n",
       "    <tr style=\"text-align: right;\">\n",
       "      <th></th>\n",
       "      <th>Text</th>\n",
       "      <th>Summary</th>\n",
       "    </tr>\n",
       "  </thead>\n",
       "  <tbody>\n",
       "    <tr>\n",
       "      <th>0</th>\n",
       "      <td>ông maliki xác_nhận các vụ không_kích của syri...</td>\n",
       "      <td>thủ_tướng iraq xác_nhận với bbc rằng syria khô...</td>\n",
       "    </tr>\n",
       "    <tr>\n",
       "      <th>1</th>\n",
       "      <td>lý quang diệu được cho là người đứng đằng sau...</td>\n",
       "      <td>chính_phủ singapore cho_hay cựu thủ_tướng ngườ...</td>\n",
       "    </tr>\n",
       "    <tr>\n",
       "      <th>2</th>\n",
       "      <td>ông hà kim ngọc thứ_trưởng bộ ngoại_giao phát_...</td>\n",
       "      <td>kết_thúc phiên kiểm_định định_kỳ phổ_quát về t...</td>\n",
       "    </tr>\n",
       "    <tr>\n",
       "      <th>3</th>\n",
       "      <td>hai bàn thắng của luis suarez hiệp một tạo lợi...</td>\n",
       "      <td>hlv manchester city manuel pellegrini tin rằng...</td>\n",
       "    </tr>\n",
       "    <tr>\n",
       "      <th>4</th>\n",
       "      <td>thủ_hiến tiểu_bang nam úc ông jay weatherill l...</td>\n",
       "      <td>một chính_khách gốc việt từng là dân tỵ nạn ...</td>\n",
       "    </tr>\n",
       "  </tbody>\n",
       "</table>\n",
       "</div>"
      ],
      "text/plain": [
       "                                                Text  \\\n",
       "0  ông maliki xác_nhận các vụ không_kích của syri...   \n",
       "1  lý quang diệu được cho là người đứng đằng sau...   \n",
       "2  ông hà kim ngọc thứ_trưởng bộ ngoại_giao phát_...   \n",
       "3  hai bàn thắng của luis suarez hiệp một tạo lợi...   \n",
       "4  thủ_hiến tiểu_bang nam úc ông jay weatherill l...   \n",
       "\n",
       "                                             Summary  \n",
       "0  thủ_tướng iraq xác_nhận với bbc rằng syria khô...  \n",
       "1  chính_phủ singapore cho_hay cựu thủ_tướng ngườ...  \n",
       "2  kết_thúc phiên kiểm_định định_kỳ phổ_quát về t...  \n",
       "3  hlv manchester city manuel pellegrini tin rằng...  \n",
       "4  một chính_khách gốc việt từng là dân tỵ nạn ...  "
      ]
     },
     "execution_count": 13,
     "metadata": {},
     "output_type": "execute_result"
    }
   ],
   "source": [
    "df.Text = df.Text.apply(lambda x: read_content(str(x)))\n",
    "df.Summary = df.Summary.apply(lambda x: read_content(str(x)))\n",
    "df.head(5)"
   ]
  },
  {
   "cell_type": "code",
   "execution_count": 14,
   "id": "2bc3e906",
   "metadata": {
    "execution": {
     "iopub.execute_input": "2022-05-14T14:34:04.199597Z",
     "iopub.status.busy": "2022-05-14T14:34:04.199079Z",
     "iopub.status.idle": "2022-05-14T14:34:04.231567Z",
     "shell.execute_reply": "2022-05-14T14:34:04.230876Z"
    },
    "papermill": {
     "duration": 0.104437,
     "end_time": "2022-05-14T14:34:04.233779",
     "exception": false,
     "start_time": "2022-05-14T14:34:04.129342",
     "status": "completed"
    },
    "tags": []
   },
   "outputs": [],
   "source": [
    "df.Summary = df.Summary.apply(lambda x: f'_START_ {x} _END_')\n",
    "start_token = 'sostok'\n",
    "end_token = 'eostok'\n",
    "df.Summary  = df.Summary.apply(lambda x: f'{start_token} {x} {end_token}')"
   ]
  },
  {
   "cell_type": "markdown",
   "id": "991dbf87",
   "metadata": {
    "papermill": {
     "duration": 0.073843,
     "end_time": "2022-05-14T14:34:04.380195",
     "exception": false,
     "start_time": "2022-05-14T14:34:04.306352",
     "status": "completed"
    },
    "tags": []
   },
   "source": [
    "# Training build_vocab with 2 method of skipgam and CBOW"
   ]
  },
  {
   "cell_type": "code",
   "execution_count": 15,
   "id": "e4ddef5f",
   "metadata": {
    "execution": {
     "iopub.execute_input": "2022-05-14T14:34:04.521693Z",
     "iopub.status.busy": "2022-05-14T14:34:04.521405Z",
     "iopub.status.idle": "2022-05-14T14:34:04.679465Z",
     "shell.execute_reply": "2022-05-14T14:34:04.678459Z"
    },
    "papermill": {
     "duration": 0.232069,
     "end_time": "2022-05-14T14:34:04.682381",
     "exception": false,
     "start_time": "2022-05-14T14:34:04.450312",
     "status": "completed"
    },
    "tags": []
   },
   "outputs": [],
   "source": [
    "from tqdm import tqdm\n",
    "tqdm.pandas(desc=\"progress-bar\")\n",
    "import gensim\n",
    "from gensim.models.word2vec import Word2Vec\n",
    "from gensim.models.doc2vec import TaggedDocument\n",
    "import multiprocessing\n",
    "from sklearn import utils"
   ]
  },
  {
   "cell_type": "code",
   "execution_count": 16,
   "id": "0879abe1",
   "metadata": {
    "execution": {
     "iopub.execute_input": "2022-05-14T14:34:04.826739Z",
     "iopub.status.busy": "2022-05-14T14:34:04.825935Z",
     "iopub.status.idle": "2022-05-14T14:34:04.831676Z",
     "shell.execute_reply": "2022-05-14T14:34:04.831045Z"
    },
    "papermill": {
     "duration": 0.079166,
     "end_time": "2022-05-14T14:34:04.833672",
     "exception": false,
     "start_time": "2022-05-14T14:34:04.754506",
     "status": "completed"
    },
    "tags": []
   },
   "outputs": [],
   "source": [
    "def labelize_text_ug(tweets,label):\n",
    "    result = []\n",
    "    prefix = label\n",
    "    for i, t in zip(tweets.index, tweets):\n",
    "        result.append(TaggedDocument(t.split(), [prefix + '_%s' % i]))\n",
    "    return result"
   ]
  },
  {
   "cell_type": "code",
   "execution_count": 17,
   "id": "dc40253e",
   "metadata": {
    "execution": {
     "iopub.execute_input": "2022-05-14T14:34:04.980472Z",
     "iopub.status.busy": "2022-05-14T14:34:04.979530Z",
     "iopub.status.idle": "2022-05-14T14:34:05.961853Z",
     "shell.execute_reply": "2022-05-14T14:34:05.960807Z"
    },
    "papermill": {
     "duration": 1.058404,
     "end_time": "2022-05-14T14:34:05.964504",
     "exception": false,
     "start_time": "2022-05-14T14:34:04.906100",
     "status": "completed"
    },
    "tags": []
   },
   "outputs": [],
   "source": [
    "all_x = pd.concat([df.Text,df.Summary])\n",
    "all_x_w2v = labelize_text_ug(all_x, 'all')"
   ]
  },
  {
   "cell_type": "code",
   "execution_count": 18,
   "id": "015f9d2f",
   "metadata": {
    "execution": {
     "iopub.execute_input": "2022-05-14T14:34:06.108273Z",
     "iopub.status.busy": "2022-05-14T14:34:06.107475Z",
     "iopub.status.idle": "2022-05-14T14:34:08.017287Z",
     "shell.execute_reply": "2022-05-14T14:34:08.015876Z"
    },
    "papermill": {
     "duration": 1.98414,
     "end_time": "2022-05-14T14:34:08.019984",
     "exception": false,
     "start_time": "2022-05-14T14:34:06.035844",
     "status": "completed"
    },
    "tags": []
   },
   "outputs": [
    {
     "name": "stderr",
     "output_type": "stream",
     "text": [
      "100%|██████████| 29328/29328 [00:00<00:00, 1066013.95it/s]\n"
     ]
    }
   ],
   "source": [
    "cores = multiprocessing.cpu_count()\n",
    "model_ug_cbow = Word2Vec(sg=0, vector_size=150, negative=5, window=2, min_count=2, workers=cores, alpha=0.065, min_alpha=0.065)\n",
    "model_ug_cbow.build_vocab([x.words for x in tqdm(all_x_w2v)])"
   ]
  },
  {
   "cell_type": "code",
   "execution_count": 19,
   "id": "ce22c121",
   "metadata": {
    "execution": {
     "iopub.execute_input": "2022-05-14T14:34:08.172134Z",
     "iopub.status.busy": "2022-05-14T14:34:08.171797Z",
     "iopub.status.idle": "2022-05-14T14:35:36.486526Z",
     "shell.execute_reply": "2022-05-14T14:35:36.485388Z"
    },
    "papermill": {
     "duration": 88.393563,
     "end_time": "2022-05-14T14:35:36.489029",
     "exception": false,
     "start_time": "2022-05-14T14:34:08.095466",
     "status": "completed"
    },
    "tags": []
   },
   "outputs": [
    {
     "name": "stderr",
     "output_type": "stream",
     "text": [
      "100%|██████████| 29328/29328 [00:00<00:00, 1013642.19it/s]\n",
      "100%|██████████| 29328/29328 [00:00<00:00, 1119427.66it/s]\n",
      "100%|██████████| 29328/29328 [00:00<00:00, 1110263.62it/s]\n",
      "100%|██████████| 29328/29328 [00:00<00:00, 1106508.48it/s]\n",
      "100%|██████████| 29328/29328 [00:00<00:00, 1049211.01it/s]\n",
      "100%|██████████| 29328/29328 [00:00<00:00, 1115003.65it/s]\n",
      "100%|██████████| 29328/29328 [00:00<00:00, 1117820.42it/s]\n",
      "100%|██████████| 29328/29328 [00:00<00:00, 1092815.11it/s]\n",
      "100%|██████████| 29328/29328 [00:00<00:00, 1110423.98it/s]\n",
      "100%|██████████| 29328/29328 [00:00<00:00, 1134940.70it/s]\n",
      "100%|██████████| 29328/29328 [00:00<00:00, 1099064.07it/s]\n",
      "100%|██████████| 29328/29328 [00:00<00:00, 1137680.33it/s]\n",
      "100%|██████████| 29328/29328 [00:00<00:00, 1055042.31it/s]\n",
      "100%|██████████| 29328/29328 [00:00<00:00, 1104382.57it/s]\n",
      "100%|██████████| 29328/29328 [00:00<00:00, 1167537.16it/s]\n",
      "100%|██████████| 29328/29328 [00:00<00:00, 1148729.48it/s]\n",
      "100%|██████████| 29328/29328 [00:00<00:00, 1123958.81it/s]\n",
      "100%|██████████| 29328/29328 [00:00<00:00, 1090538.38it/s]\n",
      "100%|██████████| 29328/29328 [00:00<00:00, 1009292.47it/s]\n",
      "100%|██████████| 29328/29328 [00:00<00:00, 1084223.24it/s]\n",
      "100%|██████████| 29328/29328 [00:00<00:00, 1084376.16it/s]\n",
      "100%|██████████| 29328/29328 [00:00<00:00, 966198.12it/s]\n",
      "100%|██████████| 29328/29328 [00:00<00:00, 1075314.02it/s]\n",
      "100%|██████████| 29328/29328 [00:00<00:00, 1041817.75it/s]\n",
      "100%|██████████| 29328/29328 [00:00<00:00, 1071417.79it/s]\n",
      "100%|██████████| 29328/29328 [00:00<00:00, 1129480.10it/s]\n",
      "100%|██████████| 29328/29328 [00:00<00:00, 1105047.28it/s]\n",
      "100%|██████████| 29328/29328 [00:00<00:00, 1137164.98it/s]\n",
      "100%|██████████| 29328/29328 [00:00<00:00, 1139947.06it/s]\n",
      "100%|██████████| 29328/29328 [00:00<00:00, 1110754.87it/s]\n"
     ]
    },
    {
     "name": "stdout",
     "output_type": "stream",
     "text": [
      "CPU times: user 5min 10s, sys: 1.52 s, total: 5min 12s\n",
      "Wall time: 1min 28s\n"
     ]
    }
   ],
   "source": [
    "%%time\n",
    "for epoch in range(30):\n",
    "    model_ug_cbow.train(utils.shuffle([x.words for x in tqdm(all_x_w2v)]), total_examples=len(all_x_w2v), epochs=1)\n",
    "    model_ug_cbow.alpha -= 0.002\n",
    "    model_ug_cbow.min_alpha = model_ug_cbow.alpha"
   ]
  },
  {
   "cell_type": "code",
   "execution_count": 20,
   "id": "d20573f1",
   "metadata": {
    "execution": {
     "iopub.execute_input": "2022-05-14T14:35:36.705317Z",
     "iopub.status.busy": "2022-05-14T14:35:36.704666Z",
     "iopub.status.idle": "2022-05-14T14:35:38.462657Z",
     "shell.execute_reply": "2022-05-14T14:35:38.461786Z"
    },
    "papermill": {
     "duration": 1.867044,
     "end_time": "2022-05-14T14:35:38.464876",
     "exception": false,
     "start_time": "2022-05-14T14:35:36.597832",
     "status": "completed"
    },
    "tags": []
   },
   "outputs": [
    {
     "name": "stderr",
     "output_type": "stream",
     "text": [
      "100%|██████████| 29328/29328 [00:00<00:00, 1139482.44it/s]\n"
     ]
    }
   ],
   "source": [
    "model_ug_sg = Word2Vec(sg=1, vector_size=150, negative=5, window=2, min_count=2, workers=cores, alpha=0.065, min_alpha=0.065)\n",
    "model_ug_sg.build_vocab([x.words for x in tqdm(all_x_w2v)])"
   ]
  },
  {
   "cell_type": "code",
   "execution_count": 21,
   "id": "28a8d95f",
   "metadata": {
    "execution": {
     "iopub.execute_input": "2022-05-14T14:35:38.676874Z",
     "iopub.status.busy": "2022-05-14T14:35:38.676262Z",
     "iopub.status.idle": "2022-05-14T14:38:37.801775Z",
     "shell.execute_reply": "2022-05-14T14:38:37.800885Z"
    },
    "papermill": {
     "duration": 179.235757,
     "end_time": "2022-05-14T14:38:37.805191",
     "exception": false,
     "start_time": "2022-05-14T14:35:38.569434",
     "status": "completed"
    },
    "tags": []
   },
   "outputs": [
    {
     "name": "stderr",
     "output_type": "stream",
     "text": [
      "100%|██████████| 29328/29328 [00:00<00:00, 1143518.27it/s]\n",
      "100%|██████████| 29328/29328 [00:00<00:00, 1099437.35it/s]\n",
      "100%|██████████| 29328/29328 [00:00<00:00, 1075520.86it/s]\n",
      "100%|██████████| 29328/29328 [00:00<00:00, 1105047.28it/s]\n",
      "100%|██████████| 29328/29328 [00:00<00:00, 1112100.49it/s]\n",
      "100%|██████████| 29328/29328 [00:00<00:00, 1112613.49it/s]\n",
      "100%|██████████| 29328/29328 [00:00<00:00, 1141766.97it/s]\n",
      "100%|██████████| 29328/29328 [00:00<00:00, 1118888.01it/s]\n",
      "100%|██████████| 29328/29328 [00:00<00:00, 1111758.76it/s]\n",
      "100%|██████████| 29328/29328 [00:00<00:00, 1155636.28it/s]\n",
      "100%|██████████| 29328/29328 [00:00<00:00, 1095833.05it/s]\n",
      "100%|██████████| 29328/29328 [00:00<00:00, 1160520.66it/s]\n",
      "100%|██████████| 29328/29328 [00:00<00:00, 1117444.70it/s]\n",
      "100%|██████████| 29328/29328 [00:00<00:00, 1107155.82it/s]\n",
      "100%|██████████| 29328/29328 [00:00<00:00, 1083888.87it/s]\n",
      "100%|██████████| 29328/29328 [00:00<00:00, 1129760.18it/s]\n",
      "100%|██████████| 29328/29328 [00:00<00:00, 735106.69it/s]\n",
      "100%|██████████| 29328/29328 [00:00<00:00, 1123353.22it/s]\n",
      "100%|██████████| 29328/29328 [00:00<00:00, 1062863.85it/s]\n",
      "100%|██████████| 29328/29328 [00:00<00:00, 1114437.96it/s]\n",
      "100%|██████████| 29328/29328 [00:00<00:00, 1156592.46it/s]\n",
      "100%|██████████| 29328/29328 [00:00<00:00, 1133142.48it/s]\n",
      "100%|██████████| 29328/29328 [00:00<00:00, 989435.25it/s]\n",
      "100%|██████████| 29328/29328 [00:00<00:00, 1149760.23it/s]\n",
      "100%|██████████| 29328/29328 [00:00<00:00, 1103946.47it/s]\n",
      "100%|██████████| 29328/29328 [00:00<00:00, 1095033.14it/s]\n",
      "100%|██████████| 29328/29328 [00:00<00:00, 1109372.47it/s]\n",
      "100%|██████████| 29328/29328 [00:00<00:00, 1119753.75it/s]\n",
      "100%|██████████| 29328/29328 [00:00<00:00, 1086224.22it/s]\n",
      "100%|██████████| 29328/29328 [00:00<00:00, 1021614.41it/s]\n"
     ]
    },
    {
     "name": "stdout",
     "output_type": "stream",
     "text": [
      "CPU times: user 11min 20s, sys: 1.82 s, total: 11min 22s\n",
      "Wall time: 2min 59s\n"
     ]
    }
   ],
   "source": [
    "%%time\n",
    "for epoch in range(30):\n",
    "    model_ug_sg.train(utils.shuffle([x.words for x in tqdm(all_x_w2v)]), total_examples=len(all_x_w2v), epochs=1)\n",
    "    model_ug_sg.alpha -= 0.002\n",
    "    model_ug_sg.min_alpha = model_ug_sg.alpha"
   ]
  },
  {
   "cell_type": "markdown",
   "id": "baf8b311",
   "metadata": {
    "papermill": {
     "duration": 0.138158,
     "end_time": "2022-05-14T14:38:38.081626",
     "exception": false,
     "start_time": "2022-05-14T14:38:37.943468",
     "status": "completed"
    },
    "tags": []
   },
   "source": [
    "**Save results**"
   ]
  },
  {
   "cell_type": "code",
   "execution_count": 22,
   "id": "96caa4ed",
   "metadata": {
    "execution": {
     "iopub.execute_input": "2022-05-14T14:38:38.359242Z",
     "iopub.status.busy": "2022-05-14T14:38:38.358475Z",
     "iopub.status.idle": "2022-05-14T14:38:38.530623Z",
     "shell.execute_reply": "2022-05-14T14:38:38.529722Z"
    },
    "papermill": {
     "duration": 0.313867,
     "end_time": "2022-05-14T14:38:38.533017",
     "exception": false,
     "start_time": "2022-05-14T14:38:38.219150",
     "status": "completed"
    },
    "tags": []
   },
   "outputs": [],
   "source": [
    "model_ug_cbow.save('w2v_model_ug_cbow.word2vec')\n",
    "model_ug_sg.save('w2v_model_ug_sg.word2vec')"
   ]
  },
  {
   "cell_type": "code",
   "execution_count": 23,
   "id": "1742806d",
   "metadata": {
    "execution": {
     "iopub.execute_input": "2022-05-14T14:38:38.809342Z",
     "iopub.status.busy": "2022-05-14T14:38:38.809037Z",
     "iopub.status.idle": "2022-05-14T14:38:39.919229Z",
     "shell.execute_reply": "2022-05-14T14:38:39.918348Z"
    },
    "papermill": {
     "duration": 1.250989,
     "end_time": "2022-05-14T14:38:39.921688",
     "exception": false,
     "start_time": "2022-05-14T14:38:38.670699",
     "status": "completed"
    },
    "tags": []
   },
   "outputs": [],
   "source": [
    "from gensim.models import KeyedVectors\n",
    "model_ug_cbow = KeyedVectors.load('w2v_model_ug_cbow.word2vec')\n",
    "model_ug_sg = KeyedVectors.load('w2v_model_ug_sg.word2vec')"
   ]
  },
  {
   "cell_type": "markdown",
   "id": "4b98b869",
   "metadata": {
    "papermill": {
     "duration": 0.146601,
     "end_time": "2022-05-14T14:38:40.210981",
     "exception": false,
     "start_time": "2022-05-14T14:38:40.064380",
     "status": "completed"
    },
    "tags": []
   },
   "source": [
    "**Appending cbow and sg for better result**"
   ]
  },
  {
   "cell_type": "code",
   "execution_count": 24,
   "id": "dfbf446a",
   "metadata": {
    "execution": {
     "iopub.execute_input": "2022-05-14T14:38:40.493142Z",
     "iopub.status.busy": "2022-05-14T14:38:40.492599Z",
     "iopub.status.idle": "2022-05-14T14:38:40.877111Z",
     "shell.execute_reply": "2022-05-14T14:38:40.876172Z"
    },
    "papermill": {
     "duration": 0.52786,
     "end_time": "2022-05-14T14:38:40.879418",
     "exception": false,
     "start_time": "2022-05-14T14:38:40.351558",
     "status": "completed"
    },
    "tags": []
   },
   "outputs": [
    {
     "name": "stdout",
     "output_type": "stream",
     "text": [
      "Found 31125 word vectors.\n"
     ]
    }
   ],
   "source": [
    "embeddings_index = {}\n",
    "for w in model_ug_cbow.wv.index_to_key:\n",
    "    embeddings_index[w] = np.append(model_ug_cbow.wv[w],model_ug_sg.wv[w])\n",
    "print('Found %s word vectors.' % len(embeddings_index))"
   ]
  },
  {
   "cell_type": "markdown",
   "id": "fe1bb510",
   "metadata": {
    "papermill": {
     "duration": 0.143668,
     "end_time": "2022-05-14T14:38:41.161710",
     "exception": false,
     "start_time": "2022-05-14T14:38:41.018042",
     "status": "completed"
    },
    "tags": []
   },
   "source": [
    "# Tokenizing"
   ]
  },
  {
   "cell_type": "code",
   "execution_count": 25,
   "id": "d84e6db1",
   "metadata": {
    "execution": {
     "iopub.execute_input": "2022-05-14T14:38:41.463369Z",
     "iopub.status.busy": "2022-05-14T14:38:41.463093Z",
     "iopub.status.idle": "2022-05-14T14:38:41.470660Z",
     "shell.execute_reply": "2022-05-14T14:38:41.469619Z"
    },
    "papermill": {
     "duration": 0.166362,
     "end_time": "2022-05-14T14:38:41.472535",
     "exception": false,
     "start_time": "2022-05-14T14:38:41.306173",
     "status": "completed"
    },
    "tags": []
   },
   "outputs": [],
   "source": [
    "# rare word analysis\n",
    "def get_rare_word_percent(tokenizer, threshold):\n",
    "    # threshold: if the word's occurrence is less than this then it's rare word\n",
    "\n",
    "    count = 0\n",
    "    total_count = 0\n",
    "    frequency = 0\n",
    "    total_frequency = 0\n",
    "\n",
    "    for key, value in tokenizer.word_counts.items():\n",
    "        total_count += 1\n",
    "        total_frequency += value\n",
    "        if value < threshold:\n",
    "            count += 1\n",
    "            frequency += value\n",
    "\n",
    "    return {\n",
    "        'percent': round((count / total_count) * 100, 2),\n",
    "        'total_coverage': round(frequency / total_frequency * 100, 2),\n",
    "        'count': count,\n",
    "        'total_count': total_count\n",
    "    }"
   ]
  },
  {
   "cell_type": "code",
   "execution_count": 26,
   "id": "f829c10f",
   "metadata": {
    "execution": {
     "iopub.execute_input": "2022-05-14T14:38:41.761606Z",
     "iopub.status.busy": "2022-05-14T14:38:41.761053Z",
     "iopub.status.idle": "2022-05-14T14:38:41.773477Z",
     "shell.execute_reply": "2022-05-14T14:38:41.772371Z"
    },
    "papermill": {
     "duration": 0.160987,
     "end_time": "2022-05-14T14:38:41.775820",
     "exception": false,
     "start_time": "2022-05-14T14:38:41.614833",
     "status": "completed"
    },
    "tags": []
   },
   "outputs": [],
   "source": [
    "# Splitting the training and validation sets\n",
    "x_train, x_val, y_train, y_val = train_test_split(\n",
    "    np.array(df['Text']),\n",
    "    np.array(df['Summary']),\n",
    "    test_size=0.15,\n",
    "    random_state=1,\n",
    "    shuffle=True\n",
    ")"
   ]
  },
  {
   "cell_type": "markdown",
   "id": "38ec1e97",
   "metadata": {
    "papermill": {
     "duration": 0.145017,
     "end_time": "2022-05-14T14:38:42.072469",
     "exception": false,
     "start_time": "2022-05-14T14:38:41.927452",
     "status": "completed"
    },
    "tags": []
   },
   "source": [
    "## **Tokenizing Text x**"
   ]
  },
  {
   "cell_type": "code",
   "execution_count": 27,
   "id": "0f55e1eb",
   "metadata": {
    "execution": {
     "iopub.execute_input": "2022-05-14T14:38:42.359160Z",
     "iopub.status.busy": "2022-05-14T14:38:42.358642Z",
     "iopub.status.idle": "2022-05-14T14:38:45.979101Z",
     "shell.execute_reply": "2022-05-14T14:38:45.978019Z"
    },
    "papermill": {
     "duration": 3.766129,
     "end_time": "2022-05-14T14:38:45.981418",
     "exception": false,
     "start_time": "2022-05-14T14:38:42.215289",
     "status": "completed"
    },
    "tags": []
   },
   "outputs": [
    {
     "name": "stdout",
     "output_type": "stream",
     "text": [
      "{'percent': 65.2, 'total_coverage': 1.07, 'count': 19710, 'total_count': 30230}\n"
     ]
    }
   ],
   "source": [
    "x_tokenizer = Tokenizer()\n",
    "x_tokenizer.fit_on_texts(list(x_train))\n",
    "\n",
    "x_tokens_data = get_rare_word_percent(x_tokenizer, 4)\n",
    "print(x_tokens_data)"
   ]
  },
  {
   "cell_type": "code",
   "execution_count": 28,
   "id": "f493b0c4",
   "metadata": {
    "execution": {
     "iopub.execute_input": "2022-05-14T14:38:46.278470Z",
     "iopub.status.busy": "2022-05-14T14:38:46.278148Z",
     "iopub.status.idle": "2022-05-14T14:38:46.285525Z",
     "shell.execute_reply": "2022-05-14T14:38:46.284621Z"
    },
    "papermill": {
     "duration": 0.155478,
     "end_time": "2022-05-14T14:38:46.287597",
     "exception": false,
     "start_time": "2022-05-14T14:38:46.132119",
     "status": "completed"
    },
    "tags": []
   },
   "outputs": [],
   "source": [
    "x_tokenizer = Tokenizer(num_words=x_tokens_data['total_count'] - x_tokens_data['count'])"
   ]
  },
  {
   "cell_type": "code",
   "execution_count": 29,
   "id": "58e43fdb",
   "metadata": {
    "execution": {
     "iopub.execute_input": "2022-05-14T14:38:46.570689Z",
     "iopub.status.busy": "2022-05-14T14:38:46.570386Z",
     "iopub.status.idle": "2022-05-14T14:38:50.168441Z",
     "shell.execute_reply": "2022-05-14T14:38:50.167527Z"
    },
    "papermill": {
     "duration": 3.741817,
     "end_time": "2022-05-14T14:38:50.171184",
     "exception": false,
     "start_time": "2022-05-14T14:38:46.429367",
     "status": "completed"
    },
    "tags": []
   },
   "outputs": [],
   "source": [
    "# else use this\n",
    "x_tokenizer = Tokenizer()\n",
    "x_tokenizer.fit_on_texts(list(x_train))"
   ]
  },
  {
   "cell_type": "code",
   "execution_count": 30,
   "id": "d3d3fd35",
   "metadata": {
    "execution": {
     "iopub.execute_input": "2022-05-14T14:38:50.453567Z",
     "iopub.status.busy": "2022-05-14T14:38:50.453259Z",
     "iopub.status.idle": "2022-05-14T14:38:50.501195Z",
     "shell.execute_reply": "2022-05-14T14:38:50.500466Z"
    },
    "papermill": {
     "duration": 0.19196,
     "end_time": "2022-05-14T14:38:50.503330",
     "exception": false,
     "start_time": "2022-05-14T14:38:50.311370",
     "status": "completed"
    },
    "tags": []
   },
   "outputs": [],
   "source": [
    "# save tokenizer\n",
    "with open('x_tokenizer', 'wb') as f:\n",
    "    pickle.dump(x_tokenizer, f, protocol=pickle.HIGHEST_PROTOCOL)"
   ]
  },
  {
   "cell_type": "code",
   "execution_count": 31,
   "id": "72ee63b5",
   "metadata": {
    "execution": {
     "iopub.execute_input": "2022-05-14T14:38:50.780243Z",
     "iopub.status.busy": "2022-05-14T14:38:50.779705Z",
     "iopub.status.idle": "2022-05-14T14:38:54.522215Z",
     "shell.execute_reply": "2022-05-14T14:38:54.521043Z"
    },
    "papermill": {
     "duration": 3.884832,
     "end_time": "2022-05-14T14:38:54.525149",
     "exception": false,
     "start_time": "2022-05-14T14:38:50.640317",
     "status": "completed"
    },
    "tags": []
   },
   "outputs": [
    {
     "name": "stdout",
     "output_type": "stream",
     "text": [
      "30231\n"
     ]
    }
   ],
   "source": [
    "# one-hot-encoding\n",
    "x_train_sequence = x_tokenizer.texts_to_sequences(x_train)\n",
    "x_val_sequence = x_tokenizer.texts_to_sequences(x_val)\n",
    "\n",
    "# padding upto max_text_len\n",
    "x_train_padded = pad_sequences(x_train_sequence, maxlen=max_text_len, padding='post')\n",
    "x_val_padded = pad_sequences(x_val_sequence, maxlen=max_text_len, padding='post')\n",
    "\n",
    "x_vocab_size = len(x_tokenizer.word_index) + 1\n",
    "\n",
    "print(x_vocab_size)"
   ]
  },
  {
   "cell_type": "markdown",
   "id": "b73c2293",
   "metadata": {
    "papermill": {
     "duration": 0.137286,
     "end_time": "2022-05-14T14:38:54.800312",
     "exception": false,
     "start_time": "2022-05-14T14:38:54.663026",
     "status": "completed"
    },
    "tags": []
   },
   "source": [
    "## **Tokenizing Summary y**"
   ]
  },
  {
   "cell_type": "code",
   "execution_count": 32,
   "id": "6b1523be",
   "metadata": {
    "execution": {
     "iopub.execute_input": "2022-05-14T14:38:55.087608Z",
     "iopub.status.busy": "2022-05-14T14:38:55.087329Z",
     "iopub.status.idle": "2022-05-14T14:38:55.711544Z",
     "shell.execute_reply": "2022-05-14T14:38:55.710466Z"
    },
    "papermill": {
     "duration": 0.769727,
     "end_time": "2022-05-14T14:38:55.714239",
     "exception": false,
     "start_time": "2022-05-14T14:38:54.944512",
     "status": "completed"
    },
    "tags": []
   },
   "outputs": [
    {
     "name": "stdout",
     "output_type": "stream",
     "text": [
      "{'percent': 70.87, 'total_coverage': 3.12, 'count': 6919, 'total_count': 9763}\n"
     ]
    }
   ],
   "source": [
    "y_tokenizer = Tokenizer()\n",
    "y_tokenizer.fit_on_texts(list(y_train))\n",
    "\n",
    "y_tokens_data = get_rare_word_percent(y_tokenizer, 6)\n",
    "print(y_tokens_data)"
   ]
  },
  {
   "cell_type": "code",
   "execution_count": 33,
   "id": "dfda21de",
   "metadata": {
    "execution": {
     "iopub.execute_input": "2022-05-14T14:38:55.995810Z",
     "iopub.status.busy": "2022-05-14T14:38:55.995483Z",
     "iopub.status.idle": "2022-05-14T14:38:56.000924Z",
     "shell.execute_reply": "2022-05-14T14:38:55.999861Z"
    },
    "papermill": {
     "duration": 0.148744,
     "end_time": "2022-05-14T14:38:56.003199",
     "exception": false,
     "start_time": "2022-05-14T14:38:55.854455",
     "status": "completed"
    },
    "tags": []
   },
   "outputs": [],
   "source": [
    "y_tokenizer = Tokenizer(num_words=y_tokens_data['total_count'] - y_tokens_data['count'])"
   ]
  },
  {
   "cell_type": "code",
   "execution_count": 34,
   "id": "a21e5d0e",
   "metadata": {
    "execution": {
     "iopub.execute_input": "2022-05-14T14:38:56.290382Z",
     "iopub.status.busy": "2022-05-14T14:38:56.289804Z",
     "iopub.status.idle": "2022-05-14T14:38:56.882180Z",
     "shell.execute_reply": "2022-05-14T14:38:56.881242Z"
    },
    "papermill": {
     "duration": 0.737081,
     "end_time": "2022-05-14T14:38:56.884604",
     "exception": false,
     "start_time": "2022-05-14T14:38:56.147523",
     "status": "completed"
    },
    "tags": []
   },
   "outputs": [],
   "source": [
    "# else use this\n",
    "y_tokenizer = Tokenizer()\n",
    "y_tokenizer.fit_on_texts(list(y_train))"
   ]
  },
  {
   "cell_type": "code",
   "execution_count": 35,
   "id": "1b16a823",
   "metadata": {
    "execution": {
     "iopub.execute_input": "2022-05-14T14:38:57.162563Z",
     "iopub.status.busy": "2022-05-14T14:38:57.162261Z",
     "iopub.status.idle": "2022-05-14T14:38:57.179824Z",
     "shell.execute_reply": "2022-05-14T14:38:57.178991Z"
    },
    "papermill": {
     "duration": 0.159752,
     "end_time": "2022-05-14T14:38:57.182137",
     "exception": false,
     "start_time": "2022-05-14T14:38:57.022385",
     "status": "completed"
    },
    "tags": []
   },
   "outputs": [],
   "source": [
    "# save tokenizer\n",
    "with open('y_tokenizer', 'wb') as f:\n",
    "    pickle.dump(y_tokenizer, f, protocol=pickle.HIGHEST_PROTOCOL)"
   ]
  },
  {
   "cell_type": "code",
   "execution_count": 36,
   "id": "8c78b072",
   "metadata": {
    "execution": {
     "iopub.execute_input": "2022-05-14T14:38:57.464684Z",
     "iopub.status.busy": "2022-05-14T14:38:57.464402Z",
     "iopub.status.idle": "2022-05-14T14:38:58.120722Z",
     "shell.execute_reply": "2022-05-14T14:38:58.119642Z"
    },
    "papermill": {
     "duration": 0.8003,
     "end_time": "2022-05-14T14:38:58.123559",
     "exception": false,
     "start_time": "2022-05-14T14:38:57.323259",
     "status": "completed"
    },
    "tags": []
   },
   "outputs": [
    {
     "name": "stdout",
     "output_type": "stream",
     "text": [
      "9764\n"
     ]
    }
   ],
   "source": [
    "# one-hot-encoding\n",
    "y_train_sequence = y_tokenizer.texts_to_sequences(y_train)\n",
    "y_val_sequence = y_tokenizer.texts_to_sequences(y_val)\n",
    "\n",
    "# padding upto max_summary_len\n",
    "y_train_padded = pad_sequences(y_train_sequence, maxlen=max_summary_len, padding='post')\n",
    "y_val_padded = pad_sequences(y_val_sequence, maxlen=max_summary_len, padding='post')\n",
    "\n",
    "y_vocab_size = len(y_tokenizer.word_index) + 1\n",
    "\n",
    "print(y_vocab_size)"
   ]
  },
  {
   "cell_type": "markdown",
   "id": "706922f5",
   "metadata": {
    "papermill": {
     "duration": 0.139541,
     "end_time": "2022-05-14T14:38:58.404231",
     "exception": false,
     "start_time": "2022-05-14T14:38:58.264690",
     "status": "completed"
    },
    "tags": []
   },
   "source": [
    "# Modelling"
   ]
  },
  {
   "cell_type": "code",
   "execution_count": 37,
   "id": "2b1ba068",
   "metadata": {
    "execution": {
     "iopub.execute_input": "2022-05-14T14:38:58.686056Z",
     "iopub.status.busy": "2022-05-14T14:38:58.685750Z",
     "iopub.status.idle": "2022-05-14T14:38:58.689857Z",
     "shell.execute_reply": "2022-05-14T14:38:58.688977Z"
    },
    "papermill": {
     "duration": 0.14807,
     "end_time": "2022-05-14T14:38:58.691991",
     "exception": false,
     "start_time": "2022-05-14T14:38:58.543921",
     "status": "completed"
    },
    "tags": []
   },
   "outputs": [],
   "source": [
    "latent_dim = 240\n",
    "embedding_dim = 300\n",
    "num_epochs = 15"
   ]
  },
  {
   "cell_type": "code",
   "execution_count": 38,
   "id": "ac2a590f",
   "metadata": {
    "execution": {
     "iopub.execute_input": "2022-05-14T14:38:58.975052Z",
     "iopub.status.busy": "2022-05-14T14:38:58.974695Z",
     "iopub.status.idle": "2022-05-14T14:38:59.110117Z",
     "shell.execute_reply": "2022-05-14T14:38:59.108961Z"
    },
    "papermill": {
     "duration": 0.278777,
     "end_time": "2022-05-14T14:38:59.112474",
     "exception": false,
     "start_time": "2022-05-14T14:38:58.833697",
     "status": "completed"
    },
    "tags": []
   },
   "outputs": [
    {
     "name": "stdout",
     "output_type": "stream",
     "text": [
      "Converted 18031 words (12199 misses)\n",
      "Converted 8769 words (994 misses)\n"
     ]
    }
   ],
   "source": [
    "def get_embedding_matrix(tokenizer, embedding_dim, vocab_size=None):\n",
    "    word_index = tokenizer.word_index\n",
    "    voc = list(word_index.keys())\n",
    "\n",
    "    num_tokens = len(voc) + 2 if not vocab_size else vocab_size\n",
    "    hits = 0\n",
    "    misses = 0\n",
    "\n",
    "    # Prepare embedding matrix\n",
    "    embedding_matrix = np.zeros((num_tokens, embedding_dim))\n",
    "    for word, i in word_index.items():\n",
    "        embedding_vector = embeddings_index.get(word)\n",
    "        if embedding_vector is not None:\n",
    "            # Words not found in embedding index will be all-zeros.\n",
    "            # This includes the representation for \"padding\" and \"OOV\"\n",
    "            embedding_matrix[i] = embedding_vector\n",
    "            hits += 1\n",
    "        else:\n",
    "            misses += 1\n",
    "    print(\"Converted %d words (%d misses)\" % (hits, misses))\n",
    "\n",
    "    return embedding_matrix\n",
    "\n",
    "\n",
    "x_embedding_matrix = get_embedding_matrix(x_tokenizer, embedding_dim, x_vocab_size)\n",
    "y_embedding_matrix = get_embedding_matrix(y_tokenizer, embedding_dim, y_vocab_size)"
   ]
  },
  {
   "cell_type": "code",
   "execution_count": 39,
   "id": "95af82b7",
   "metadata": {
    "execution": {
     "iopub.execute_input": "2022-05-14T14:38:59.414933Z",
     "iopub.status.busy": "2022-05-14T14:38:59.414602Z",
     "iopub.status.idle": "2022-05-14T14:38:59.419644Z",
     "shell.execute_reply": "2022-05-14T14:38:59.418992Z"
    },
    "papermill": {
     "duration": 0.160887,
     "end_time": "2022-05-14T14:38:59.421634",
     "exception": false,
     "start_time": "2022-05-14T14:38:59.260747",
     "status": "completed"
    },
    "tags": []
   },
   "outputs": [
    {
     "name": "stdout",
     "output_type": "stream",
     "text": [
      "(30231, 300)\n",
      "(9764, 300)\n"
     ]
    }
   ],
   "source": [
    "print(x_embedding_matrix.shape)\n",
    "print(y_embedding_matrix.shape)"
   ]
  },
  {
   "cell_type": "code",
   "execution_count": 40,
   "id": "77ca133b",
   "metadata": {
    "execution": {
     "iopub.execute_input": "2022-05-14T14:38:59.703947Z",
     "iopub.status.busy": "2022-05-14T14:38:59.703607Z",
     "iopub.status.idle": "2022-05-14T14:38:59.708219Z",
     "shell.execute_reply": "2022-05-14T14:38:59.707264Z"
    },
    "papermill": {
     "duration": 0.148912,
     "end_time": "2022-05-14T14:38:59.710445",
     "exception": false,
     "start_time": "2022-05-14T14:38:59.561533",
     "status": "completed"
    },
    "tags": []
   },
   "outputs": [],
   "source": [
    "# Next, let’s build the dictionary to convert the index to word for target and source vocabulary:\n",
    "reverse_target_word_index = y_tokenizer.index_word\n",
    "reverse_source_word_index = x_tokenizer.index_word\n",
    "target_word_index = y_tokenizer.word_index"
   ]
  },
  {
   "cell_type": "code",
   "execution_count": 41,
   "id": "c50042ea",
   "metadata": {
    "execution": {
     "iopub.execute_input": "2022-05-14T14:38:59.992706Z",
     "iopub.status.busy": "2022-05-14T14:38:59.992381Z",
     "iopub.status.idle": "2022-05-14T14:39:00.012233Z",
     "shell.execute_reply": "2022-05-14T14:39:00.011308Z"
    },
    "papermill": {
     "duration": 0.163443,
     "end_time": "2022-05-14T14:39:00.014277",
     "exception": false,
     "start_time": "2022-05-14T14:38:59.850834",
     "status": "completed"
    },
    "tags": []
   },
   "outputs": [],
   "source": [
    "def build_hybrid_seq2seq_model(\n",
    "    embedding_dim, latent_dim, max_text_len, \n",
    "    x_vocab_size, y_vocab_size,\n",
    "    x_embedding_matrix, y_embedding_matrix\n",
    "):\n",
    "    # instantiating the model in the strategy scope creates the model on the TPU\n",
    "    # with tpu_strategy.scope():\n",
    "        # =====================\n",
    "        # Encoder\n",
    "        # =====================\n",
    "        encoder_input = Input(shape=(max_text_len, ))\n",
    "\n",
    "        # encoder embedding layer\n",
    "        encoder_embedding = Embedding(\n",
    "            x_vocab_size,\n",
    "            embedding_dim,\n",
    "            embeddings_initializer=tf.keras.initializers.Constant(x_embedding_matrix),\n",
    "            trainable=False,\n",
    "            name='encoder_embedding'\n",
    "        )(encoder_input)\n",
    "\n",
    "        # encoder lstm1\n",
    "        encoder_bi_lstm1 = Bidirectional(\n",
    "            LSTM(\n",
    "                latent_dim,\n",
    "                return_sequences=True,\n",
    "                return_state=True,\n",
    "                dropout=0.4,\n",
    "                recurrent_dropout=0.4,\n",
    "                name='encoder_lstm_1'\n",
    "            ),\n",
    "            name='encoder_bidirectional_lstm_1'\n",
    "        )\n",
    "        encoder_output1, forward_h1, forward_c1, backward_h1, backward_c1 = encoder_bi_lstm1(\n",
    "            encoder_embedding\n",
    "        )\n",
    "        encoder_bi_lstm1_output = [\n",
    "            encoder_output1, forward_h1, forward_c1, backward_h1, backward_c1\n",
    "        ]\n",
    "\n",
    "        # encoder lstm 2\n",
    "        encoder_bi_lstm2 = Bidirectional(\n",
    "            LSTM(\n",
    "                latent_dim,\n",
    "                return_sequences=True,\n",
    "                return_state=True,\n",
    "                dropout=0.4,\n",
    "                recurrent_dropout=0.4,\n",
    "                name='encoder_lstm_2'\n",
    "            ),\n",
    "            name='encoder_bidirectional_lstm_2'\n",
    "        )\n",
    "        encoder_output2, forward_h2, forward_c2, backward_h2, backward_c2 = encoder_bi_lstm2(\n",
    "            encoder_output1\n",
    "        )\n",
    "        encoder_bi_lstm2_output = [\n",
    "            encoder_output2, forward_h2, forward_c2, backward_h2, backward_c2\n",
    "        ]\n",
    "\n",
    "        # encoder lstm 3\n",
    "        encoder_bi_lstm = Bidirectional(\n",
    "            LSTM(\n",
    "                latent_dim,\n",
    "                return_sequences=True,\n",
    "                return_state=True,\n",
    "                dropout=0.4,\n",
    "                recurrent_dropout=0.4,\n",
    "                name='encoder_lstm_3'\n",
    "            ),\n",
    "            name='encoder_bidirectional_lstm_3'\n",
    "        )\n",
    "        encoder_output, *encoder_final_states = encoder_bi_lstm(encoder_output2)\n",
    "\n",
    "        # =====================\n",
    "        # Decoder\n",
    "        # =====================\n",
    "\n",
    "        # Set up the decoder, using `encoder_states` as initial state.\n",
    "\n",
    "        decoder_input = Input(shape=(None, ))\n",
    "\n",
    "        # decoder embedding layer\n",
    "        decoder_embedding_layer = Embedding(\n",
    "            y_vocab_size,\n",
    "            embedding_dim,\n",
    "            embeddings_initializer=tf.keras.initializers.Constant(y_embedding_matrix),\n",
    "            trainable=False,\n",
    "            name='decoder_embedding'\n",
    "        )\n",
    "        decoder_embedding = decoder_embedding_layer(decoder_input)\n",
    "        \n",
    "        decoder_lstm = LSTM(\n",
    "            latent_dim,\n",
    "            return_sequences=True,\n",
    "            return_state=True,\n",
    "            dropout=0.4,\n",
    "            recurrent_dropout=0.2,\n",
    "            name='decoder_lstm_1'\n",
    "        )\n",
    "        decoder_output, *decoder_final_states = decoder_lstm(\n",
    "            decoder_embedding, initial_state=encoder_final_states[:2]\n",
    "        )  # taking only the forward states\n",
    "\n",
    "        # dense layer\n",
    "        decoder_dense = TimeDistributed(\n",
    "            Dense(y_vocab_size, activation='softmax')\n",
    "        )\n",
    "        decoder_output = decoder_dense(decoder_output)\n",
    "\n",
    "        # =====================\n",
    "        # Model\n",
    "        # =====================\n",
    "        model = Model([encoder_input, decoder_input], decoder_output, name='seq2seq_model_with_bidirectional_lstm')\n",
    "        model.summary()\n",
    "\n",
    "        optimizer = tf.keras.optimizers.RMSprop(learning_rate=0.001)\n",
    "        model.compile(\n",
    "            optimizer=optimizer,\n",
    "            loss='sparse_categorical_crossentropy',\n",
    "            metrics=['accuracy']\n",
    "        )\n",
    "\n",
    "        return {\n",
    "            'model': model,\n",
    "            'inputs': {\n",
    "                'encoder': encoder_input,\n",
    "                'decoder': decoder_input\n",
    "            },\n",
    "            'outputs': {\n",
    "                'encoder': encoder_output,\n",
    "                'decoder': decoder_output\n",
    "            },\n",
    "            'states': {\n",
    "                'encoder': encoder_final_states,\n",
    "                'decoder': decoder_final_states\n",
    "            },\n",
    "            'layers': {\n",
    "                'decoder': {\n",
    "                    'embedding': decoder_embedding_layer,\n",
    "                    'last_decoder_lstm': decoder_lstm,\n",
    "                    'dense': decoder_dense\n",
    "                }\n",
    "            }\n",
    "        }"
   ]
  },
  {
   "cell_type": "code",
   "execution_count": 42,
   "id": "2d52c29f",
   "metadata": {
    "execution": {
     "iopub.execute_input": "2022-05-14T14:39:00.297637Z",
     "iopub.status.busy": "2022-05-14T14:39:00.297336Z",
     "iopub.status.idle": "2022-05-14T14:39:00.305760Z",
     "shell.execute_reply": "2022-05-14T14:39:00.305074Z"
    },
    "papermill": {
     "duration": 0.152899,
     "end_time": "2022-05-14T14:39:00.307985",
     "exception": false,
     "start_time": "2022-05-14T14:39:00.155086",
     "status": "completed"
    },
    "tags": []
   },
   "outputs": [],
   "source": [
    "def build_hybrid_seq2seq_model_inference(\n",
    "    max_text_len, latent_dim, encoder_input, encoder_output,\n",
    "    encoder_final_states, decoder_input, decoder_output,\n",
    "    decoder_embedding_layer, decoder_dense, last_decoder_bi_lstm\n",
    "):\n",
    "\n",
    "    # Encode the input sequence to get the feature vector\n",
    "    encoder_model = Model(\n",
    "        inputs=encoder_input, outputs=[encoder_output] + encoder_final_states\n",
    "    )\n",
    "\n",
    "    # Decoder setup\n",
    "    # Below tensors will hold the states of the previous time step\n",
    "    decoder_state_forward_input_h = Input(shape=(latent_dim, ))\n",
    "    decoder_state_forward_input_c = Input(shape=(latent_dim, ))\n",
    "    # decoder_state_backward_input_h = Input(shape=(latent_dim, ))\n",
    "    # decoder_state_backward_input_c = Input(shape=(latent_dim, ))\n",
    "\n",
    "    # Create the hidden input layer with twice the latent dimension,\n",
    "    # since we are using bi - directional LSTM's we will get \n",
    "    # two hidden states and two cell states\n",
    "    decoder_hidden_state_input = Input(shape=(max_text_len, latent_dim * 2))\n",
    "\n",
    "    decoder_initial_state = [\n",
    "        decoder_state_forward_input_h, decoder_state_forward_input_c,\n",
    "        #decoder_state_backward_input_h, decoder_state_backward_input_c\n",
    "    ]\n",
    "\n",
    "    # Get the embeddings of the decoder sequence\n",
    "    decoder_embedding = decoder_embedding_layer(decoder_input)\n",
    "\n",
    "    # To predict the next word in the sequence, set the initial\n",
    "    # states to the states from the previous time step\n",
    "    decoder_output, *decoder_states = last_decoder_bi_lstm(\n",
    "        decoder_embedding, initial_state=decoder_initial_state\n",
    "    )\n",
    "\n",
    "    # A dense softmax layer to generate prob dist. over the target vocabulary\n",
    "    decoder_output = decoder_dense(decoder_output)\n",
    "\n",
    "    # Final decoder model\n",
    "    decoder_model = Model(\n",
    "        [decoder_input] + [decoder_hidden_state_input] + decoder_initial_state,\n",
    "        [decoder_output] + decoder_states\n",
    "    )\n",
    "\n",
    "    return (encoder_model, decoder_model)"
   ]
  },
  {
   "cell_type": "code",
   "execution_count": 43,
   "id": "e9624820",
   "metadata": {
    "execution": {
     "iopub.execute_input": "2022-05-14T14:39:00.594270Z",
     "iopub.status.busy": "2022-05-14T14:39:00.594004Z",
     "iopub.status.idle": "2022-05-14T14:39:00.603303Z",
     "shell.execute_reply": "2022-05-14T14:39:00.602554Z"
    },
    "papermill": {
     "duration": 0.154806,
     "end_time": "2022-05-14T14:39:00.605919",
     "exception": false,
     "start_time": "2022-05-14T14:39:00.451113",
     "status": "completed"
    },
    "tags": []
   },
   "outputs": [],
   "source": [
    "def decode_sequence_hybrid_seq2seq_model(\n",
    "    input_sequence, encoder_model, decoder_model\n",
    "):\n",
    "    # Encode the input as state vectors.\n",
    "    e_out, *state_values = encoder_model.predict(input_sequence)\n",
    "    \n",
    "    # Generate empty target sequence of length 1.\n",
    "    target_seq = np.zeros((1, 1))\n",
    "\n",
    "    # Populate the first word of target sequence with the start word.\n",
    "    target_seq[0, 0] = target_word_index[start_token]\n",
    "\n",
    "    stop_condition = False\n",
    "    decoded_sentence = ''\n",
    "    \n",
    "    while not stop_condition:\n",
    "        output_tokens, *decoder_states = decoder_model.predict(\n",
    "            [target_seq] + [e_out] + state_values[:2]\n",
    "        )\n",
    "\n",
    "        # Sample a token\n",
    "        sampled_token_index = np.argmax(output_tokens[0, -1, :]) # Greedy Search\n",
    "        sampled_token = reverse_target_word_index[sampled_token_index + 1]\n",
    "        \n",
    "        if sampled_token != end_token:\n",
    "            decoded_sentence += ' ' + sampled_token\n",
    "\n",
    "        # Exit condition: either hit max length or find stop word.\n",
    "        if (sampled_token == end_token) or (len(decoded_sentence.split()) >= (max_summary_len - 1)):\n",
    "            stop_condition = True\n",
    "\n",
    "        # Update the target sequence (of length 1).\n",
    "        target_seq = np.zeros((1, 1))\n",
    "        target_seq[0, 0] = sampled_token_index\n",
    "\n",
    "        # Update internal states\n",
    "        state_values = decoder_states\n",
    "\n",
    "    return decoded_sentence"
   ]
  },
  {
   "cell_type": "markdown",
   "id": "7591d672",
   "metadata": {
    "papermill": {
     "duration": 0.14002,
     "end_time": "2022-05-14T14:39:00.885148",
     "exception": false,
     "start_time": "2022-05-14T14:39:00.745128",
     "status": "completed"
    },
    "tags": []
   },
   "source": [
    "# **Running Model**"
   ]
  },
  {
   "cell_type": "code",
   "execution_count": 44,
   "id": "7385e03c",
   "metadata": {
    "execution": {
     "iopub.execute_input": "2022-05-14T14:39:01.166994Z",
     "iopub.status.busy": "2022-05-14T14:39:01.166449Z",
     "iopub.status.idle": "2022-05-14T14:39:01.171784Z",
     "shell.execute_reply": "2022-05-14T14:39:01.171136Z"
    },
    "papermill": {
     "duration": 0.148994,
     "end_time": "2022-05-14T14:39:01.173872",
     "exception": false,
     "start_time": "2022-05-14T14:39:01.024878",
     "status": "completed"
    },
    "tags": []
   },
   "outputs": [],
   "source": [
    "def display_training_curves(training, validation, title, subplot):\n",
    "    ax = plt.subplot(subplot)\n",
    "    ax.plot(training)\n",
    "    ax.plot(validation)\n",
    "    ax.set_title('Model '+ title)\n",
    "    ax.set_ylabel(title)\n",
    "    ax.set_xlabel('epoch')\n",
    "    ax.legend(['training', 'validation'])"
   ]
  },
  {
   "cell_type": "code",
   "execution_count": 45,
   "id": "69190d32",
   "metadata": {
    "execution": {
     "iopub.execute_input": "2022-05-14T14:39:01.458113Z",
     "iopub.status.busy": "2022-05-14T14:39:01.457592Z",
     "iopub.status.idle": "2022-05-14T14:39:01.462496Z",
     "shell.execute_reply": "2022-05-14T14:39:01.461910Z"
    },
    "papermill": {
     "duration": 0.147533,
     "end_time": "2022-05-14T14:39:01.464658",
     "exception": false,
     "start_time": "2022-05-14T14:39:01.317125",
     "status": "completed"
    },
    "tags": []
   },
   "outputs": [],
   "source": [
    "def seq2summary(input_sequence):\n",
    "    new_string = ''\n",
    "    for i in input_sequence:\n",
    "        if (\n",
    "            (i != 0 and i != target_word_index[start_token]) and\n",
    "            (i != target_word_index[end_token])\n",
    "        ):\n",
    "            new_string = new_string + reverse_target_word_index[i] + ' '\n",
    "    return new_string"
   ]
  },
  {
   "cell_type": "code",
   "execution_count": 46,
   "id": "b004b2cc",
   "metadata": {
    "execution": {
     "iopub.execute_input": "2022-05-14T14:39:01.745674Z",
     "iopub.status.busy": "2022-05-14T14:39:01.745269Z",
     "iopub.status.idle": "2022-05-14T14:39:01.749831Z",
     "shell.execute_reply": "2022-05-14T14:39:01.748809Z"
    },
    "papermill": {
     "duration": 0.146872,
     "end_time": "2022-05-14T14:39:01.752017",
     "exception": false,
     "start_time": "2022-05-14T14:39:01.605145",
     "status": "completed"
    },
    "tags": []
   },
   "outputs": [],
   "source": [
    "def seq2text(input_sequence):\n",
    "    new_string = ''\n",
    "    for i in input_sequence:\n",
    "        if i != 0:\n",
    "            new_string = new_string + reverse_source_word_index[i] + ' '\n",
    "    return new_string"
   ]
  },
  {
   "cell_type": "code",
   "execution_count": 47,
   "id": "8c1e60d2",
   "metadata": {
    "execution": {
     "iopub.execute_input": "2022-05-14T14:39:02.041047Z",
     "iopub.status.busy": "2022-05-14T14:39:02.040645Z",
     "iopub.status.idle": "2022-05-14T14:39:02.045658Z",
     "shell.execute_reply": "2022-05-14T14:39:02.045003Z"
    },
    "papermill": {
     "duration": 0.153114,
     "end_time": "2022-05-14T14:39:02.047733",
     "exception": false,
     "start_time": "2022-05-14T14:39:01.894619",
     "status": "completed"
    },
    "tags": []
   },
   "outputs": [],
   "source": [
    "def seq2highlights(input_seq):\n",
    "    newString=''\n",
    "    for i in input_seq:\n",
    "        if((i!=0 and i!=target_word_index['start']) and i!=target_word_index['end']):\n",
    "            newString=newString+reverse_target_word_index[i]+' '\n",
    "    return newString"
   ]
  },
  {
   "cell_type": "code",
   "execution_count": 48,
   "id": "085e51ff",
   "metadata": {
    "execution": {
     "iopub.execute_input": "2022-05-14T14:39:02.340152Z",
     "iopub.status.busy": "2022-05-14T14:39:02.339482Z",
     "iopub.status.idle": "2022-05-14T14:39:02.344156Z",
     "shell.execute_reply": "2022-05-14T14:39:02.343190Z"
    },
    "papermill": {
     "duration": 0.157955,
     "end_time": "2022-05-14T14:39:02.346572",
     "exception": false,
     "start_time": "2022-05-14T14:39:02.188617",
     "status": "completed"
    },
    "tags": []
   },
   "outputs": [],
   "source": [
    "model_func = build_hybrid_seq2seq_model\n",
    "inference_func = build_hybrid_seq2seq_model_inference\n",
    "decode_sequence_func = decode_sequence_hybrid_seq2seq_model"
   ]
  },
  {
   "cell_type": "code",
   "execution_count": 49,
   "id": "90c8513d",
   "metadata": {
    "execution": {
     "iopub.execute_input": "2022-05-14T14:39:02.642793Z",
     "iopub.status.busy": "2022-05-14T14:39:02.641950Z",
     "iopub.status.idle": "2022-05-14T14:39:04.298731Z",
     "shell.execute_reply": "2022-05-14T14:39:04.297681Z"
    },
    "papermill": {
     "duration": 1.804791,
     "end_time": "2022-05-14T14:39:04.301526",
     "exception": false,
     "start_time": "2022-05-14T14:39:02.496735",
     "status": "completed"
    },
    "tags": []
   },
   "outputs": [
    {
     "name": "stderr",
     "output_type": "stream",
     "text": [
      "2022-05-14 14:39:02.699080: I tensorflow/core/common_runtime/process_util.cc:146] Creating new thread pool with default inter op setting: 2. Tune using inter_op_parallelism_threads for best performance.\n"
     ]
    },
    {
     "name": "stdout",
     "output_type": "stream",
     "text": [
      "Model: \"seq2seq_model_with_bidirectional_lstm\"\n",
      "__________________________________________________________________________________________________\n",
      "Layer (type)                    Output Shape         Param #     Connected to                     \n",
      "==================================================================================================\n",
      "input_1 (InputLayer)            [(None, 300)]        0                                            \n",
      "__________________________________________________________________________________________________\n",
      "encoder_embedding (Embedding)   (None, 300, 300)     9069300     input_1[0][0]                    \n",
      "__________________________________________________________________________________________________\n",
      "encoder_bidirectional_lstm_1 (B [(None, 300, 480), ( 1038720     encoder_embedding[0][0]          \n",
      "__________________________________________________________________________________________________\n",
      "input_2 (InputLayer)            [(None, None)]       0                                            \n",
      "__________________________________________________________________________________________________\n",
      "encoder_bidirectional_lstm_2 (B [(None, 300, 480), ( 1384320     encoder_bidirectional_lstm_1[0][0\n",
      "__________________________________________________________________________________________________\n",
      "decoder_embedding (Embedding)   (None, None, 300)    2929200     input_2[0][0]                    \n",
      "__________________________________________________________________________________________________\n",
      "encoder_bidirectional_lstm_3 (B [(None, 300, 480), ( 1384320     encoder_bidirectional_lstm_2[0][0\n",
      "__________________________________________________________________________________________________\n",
      "decoder_lstm_1 (LSTM)           [(None, None, 240),  519360      decoder_embedding[0][0]          \n",
      "                                                                 encoder_bidirectional_lstm_3[0][1\n",
      "                                                                 encoder_bidirectional_lstm_3[0][2\n",
      "__________________________________________________________________________________________________\n",
      "time_distributed (TimeDistribut (None, None, 9764)   2353124     decoder_lstm_1[0][0]             \n",
      "==================================================================================================\n",
      "Total params: 18,678,344\n",
      "Trainable params: 6,679,844\n",
      "Non-trainable params: 11,998,500\n",
      "__________________________________________________________________________________________________\n",
      "Model: \"seq2seq_model_with_bidirectional_lstm\"\n",
      "__________________________________________________________________________________________________\n",
      "Layer (type)                    Output Shape         Param #     Connected to                     \n",
      "==================================================================================================\n",
      "input_1 (InputLayer)            [(None, 300)]        0                                            \n",
      "__________________________________________________________________________________________________\n",
      "encoder_embedding (Embedding)   (None, 300, 300)     9069300     input_1[0][0]                    \n",
      "__________________________________________________________________________________________________\n",
      "encoder_bidirectional_lstm_1 (B [(None, 300, 480), ( 1038720     encoder_embedding[0][0]          \n",
      "__________________________________________________________________________________________________\n",
      "input_2 (InputLayer)            [(None, None)]       0                                            \n",
      "__________________________________________________________________________________________________\n",
      "encoder_bidirectional_lstm_2 (B [(None, 300, 480), ( 1384320     encoder_bidirectional_lstm_1[0][0\n",
      "__________________________________________________________________________________________________\n",
      "decoder_embedding (Embedding)   (None, None, 300)    2929200     input_2[0][0]                    \n",
      "__________________________________________________________________________________________________\n",
      "encoder_bidirectional_lstm_3 (B [(None, 300, 480), ( 1384320     encoder_bidirectional_lstm_2[0][0\n",
      "__________________________________________________________________________________________________\n",
      "decoder_lstm_1 (LSTM)           [(None, None, 240),  519360      decoder_embedding[0][0]          \n",
      "                                                                 encoder_bidirectional_lstm_3[0][1\n",
      "                                                                 encoder_bidirectional_lstm_3[0][2\n",
      "__________________________________________________________________________________________________\n",
      "time_distributed (TimeDistribut (None, None, 9764)   2353124     decoder_lstm_1[0][0]             \n",
      "==================================================================================================\n",
      "Total params: 18,678,344\n",
      "Trainable params: 6,679,844\n",
      "Non-trainable params: 11,998,500\n",
      "__________________________________________________________________________________________________\n"
     ]
    }
   ],
   "source": [
    "seq2seq = model_func(\n",
    "    embedding_dim, latent_dim, max_text_len, \n",
    "    x_vocab_size, y_vocab_size,\n",
    "    x_embedding_matrix, y_embedding_matrix\n",
    ")\n",
    "\n",
    "model = seq2seq['model']\n",
    "\n",
    "encoder_input = seq2seq['inputs']['encoder']\n",
    "decoder_input = seq2seq['inputs']['decoder']\n",
    "\n",
    "encoder_output = seq2seq['outputs']['encoder']\n",
    "decoder_output = seq2seq['outputs']['decoder']\n",
    "\n",
    "encoder_final_states = seq2seq['states']['encoder']\n",
    "decoder_final_states = seq2seq['states']['decoder']\n",
    "\n",
    "decoder_embedding_layer = seq2seq['layers']['decoder']['embedding']\n",
    "last_decoder_lstm = seq2seq['layers']['decoder']['last_decoder_lstm']\n",
    "decoder_dense = seq2seq['layers']['decoder']['dense']\n",
    "\n",
    "model.summary()"
   ]
  },
  {
   "cell_type": "code",
   "execution_count": 50,
   "id": "51b044ae",
   "metadata": {
    "execution": {
     "iopub.execute_input": "2022-05-14T14:39:04.585664Z",
     "iopub.status.busy": "2022-05-14T14:39:04.584716Z",
     "iopub.status.idle": "2022-05-14T14:39:04.590092Z",
     "shell.execute_reply": "2022-05-14T14:39:04.589495Z"
    },
    "papermill": {
     "duration": 0.14925,
     "end_time": "2022-05-14T14:39:04.592057",
     "exception": false,
     "start_time": "2022-05-14T14:39:04.442807",
     "status": "completed"
    },
    "tags": []
   },
   "outputs": [],
   "source": [
    "callbacks = [\n",
    "    EarlyStopping(monitor='val_loss', mode='min', verbose=1, patience=2),\n",
    "    ReduceLROnPlateau(monitor='val_loss', factor=0.1, patience=2, min_lr=0.000001, verbose=1),\n",
    "]"
   ]
  },
  {
   "cell_type": "code",
   "execution_count": 51,
   "id": "88ac8b06",
   "metadata": {
    "execution": {
     "iopub.execute_input": "2022-05-14T14:39:04.885948Z",
     "iopub.status.busy": "2022-05-14T14:39:04.885653Z",
     "iopub.status.idle": "2022-05-15T00:18:49.499638Z",
     "shell.execute_reply": "2022-05-15T00:18:49.497239Z"
    },
    "papermill": {
     "duration": 34784.769367,
     "end_time": "2022-05-15T00:18:49.503120",
     "exception": false,
     "start_time": "2022-05-14T14:39:04.733753",
     "status": "completed"
    },
    "tags": []
   },
   "outputs": [
    {
     "name": "stderr",
     "output_type": "stream",
     "text": [
      "2022-05-14 14:39:04.971266: I tensorflow/compiler/mlir/mlir_graph_optimization_pass.cc:185] None of the MLIR Optimization Passes are enabled (registered 2)\n"
     ]
    },
    {
     "name": "stdout",
     "output_type": "stream",
     "text": [
      "Epoch 1/15\n",
      "98/98 [==============================] - 2319s 23s/step - loss: 3.5444 - accuracy: 0.5508 - val_loss: 2.8893 - val_accuracy: 0.5842\n",
      "Epoch 2/15\n",
      "98/98 [==============================] - 2323s 24s/step - loss: 2.8732 - accuracy: 0.5873 - val_loss: 2.6371 - val_accuracy: 0.6116\n",
      "Epoch 3/15\n",
      "98/98 [==============================] - 2300s 23s/step - loss: 2.6569 - accuracy: 0.6076 - val_loss: 2.4632 - val_accuracy: 0.6276\n",
      "Epoch 4/15\n",
      "98/98 [==============================] - 2320s 24s/step - loss: 2.5132 - accuracy: 0.6203 - val_loss: 2.3609 - val_accuracy: 0.6379\n",
      "Epoch 5/15\n",
      "98/98 [==============================] - 2336s 24s/step - loss: 2.4138 - accuracy: 0.6289 - val_loss: 2.2874 - val_accuracy: 0.6441\n",
      "Epoch 6/15\n",
      "98/98 [==============================] - 2325s 24s/step - loss: 2.3383 - accuracy: 0.6351 - val_loss: 2.2360 - val_accuracy: 0.6484\n",
      "Epoch 7/15\n",
      "98/98 [==============================] - 2341s 24s/step - loss: 2.2768 - accuracy: 0.6399 - val_loss: 2.1896 - val_accuracy: 0.6529\n",
      "Epoch 8/15\n",
      "98/98 [==============================] - 2324s 24s/step - loss: 2.2266 - accuracy: 0.6443 - val_loss: 2.1502 - val_accuracy: 0.6570\n",
      "Epoch 9/15\n",
      "98/98 [==============================] - 2323s 24s/step - loss: 2.1810 - accuracy: 0.6482 - val_loss: 2.1253 - val_accuracy: 0.6583\n",
      "Epoch 10/15\n",
      "98/98 [==============================] - 2303s 24s/step - loss: 2.1412 - accuracy: 0.6515 - val_loss: 2.0976 - val_accuracy: 0.6615\n",
      "Epoch 11/15\n",
      "98/98 [==============================] - 2319s 24s/step - loss: 2.1064 - accuracy: 0.6540 - val_loss: 2.0764 - val_accuracy: 0.6637\n",
      "Epoch 12/15\n",
      "98/98 [==============================] - 2316s 24s/step - loss: 2.0742 - accuracy: 0.6570 - val_loss: 2.0574 - val_accuracy: 0.6650\n",
      "Epoch 13/15\n",
      "98/98 [==============================] - 2299s 23s/step - loss: 2.0456 - accuracy: 0.6591 - val_loss: 2.0403 - val_accuracy: 0.6672\n",
      "Epoch 14/15\n",
      "98/98 [==============================] - 2295s 23s/step - loss: 2.0204 - accuracy: 0.6614 - val_loss: 2.0233 - val_accuracy: 0.6692\n",
      "Epoch 15/15\n",
      "98/98 [==============================] - 2330s 24s/step - loss: 1.9961 - accuracy: 0.6634 - val_loss: 2.0086 - val_accuracy: 0.6704\n"
     ]
    }
   ],
   "source": [
    "history = model.fit(\n",
    "    [x_train_padded, y_train_padded[:, :-1]],\n",
    "    y_train_padded.reshape(y_train_padded.shape[0], y_train_padded.shape[1], 1)[:, 1:],\n",
    "    epochs=num_epochs,\n",
    "    batch_size=128, \n",
    "    callbacks=callbacks,\n",
    "    validation_data=(\n",
    "        [x_val_padded, y_val_padded[:, :-1]],\n",
    "        y_val_padded.reshape(y_val_padded.shape[0], y_val_padded.shape[1], 1)[:, 1:]\n",
    "    )\n",
    ")"
   ]
  },
  {
   "cell_type": "code",
   "execution_count": 52,
   "id": "5a8e1f3d",
   "metadata": {
    "execution": {
     "iopub.execute_input": "2022-05-15T00:18:50.901358Z",
     "iopub.status.busy": "2022-05-15T00:18:50.900637Z",
     "iopub.status.idle": "2022-05-15T00:18:51.484111Z",
     "shell.execute_reply": "2022-05-15T00:18:51.482944Z"
    },
    "papermill": {
     "duration": 1.284734,
     "end_time": "2022-05-15T00:18:51.486876",
     "exception": false,
     "start_time": "2022-05-15T00:18:50.202142",
     "status": "completed"
    },
    "tags": []
   },
   "outputs": [
    {
     "data": {
      "image/png": "[encoded data removed]",
      "text/plain": [
       "<Figure size 720x720 with 2 Axes>"
      ]
     },
     "metadata": {
      "needs_background": "light"
     },
     "output_type": "display_data"
    }
   ],
   "source": [
    "plt.subplots(figsize=(10,10))\n",
    "plt.tight_layout()\n",
    "display_training_curves(history.history['accuracy'], history.history['val_accuracy'], 'with hybrid architecture Accuracy', 211)\n",
    "display_training_curves(history.history['loss'], history.history['val_loss'], 'with hybrid architecture Loss', 212)"
   ]
  },
  {
   "cell_type": "code",
   "execution_count": 53,
   "id": "2d129d77",
   "metadata": {
    "execution": {
     "iopub.execute_input": "2022-05-15T00:18:52.899133Z",
     "iopub.status.busy": "2022-05-15T00:18:52.898726Z",
     "iopub.status.idle": "2022-05-15T00:18:53.097783Z",
     "shell.execute_reply": "2022-05-15T00:18:53.096933Z"
    },
    "papermill": {
     "duration": 0.904153,
     "end_time": "2022-05-15T00:18:53.100270",
     "exception": false,
     "start_time": "2022-05-15T00:18:52.196117",
     "status": "completed"
    },
    "tags": []
   },
   "outputs": [],
   "source": [
    "# Inference\n",
    "encoder_model, decoder_model = inference_func(\n",
    "    max_text_len, latent_dim, encoder_input, encoder_output,\n",
    "    encoder_final_states, decoder_input, decoder_output,\n",
    "    decoder_embedding_layer, decoder_dense, last_decoder_lstm\n",
    ")"
   ]
  },
  {
   "cell_type": "code",
   "execution_count": 54,
   "id": "9e9bf728",
   "metadata": {
    "execution": {
     "iopub.execute_input": "2022-05-15T00:18:54.511987Z",
     "iopub.status.busy": "2022-05-15T00:18:54.511662Z",
     "iopub.status.idle": "2022-05-15T00:26:14.505131Z",
     "shell.execute_reply": "2022-05-15T00:26:14.504268Z"
    },
    "papermill": {
     "duration": 440.704297,
     "end_time": "2022-05-15T00:26:14.507784",
     "exception": false,
     "start_time": "2022-05-15T00:18:53.803487",
     "status": "completed"
    },
    "tags": []
   },
   "outputs": [
    {
     "name": "stdout",
     "output_type": "stream",
     "text": [
      "Original summary:  start hà nội không chỉ đón chào gần phóng viên quốc tế mà còn chứng kiến sự xuất hiện của một đội ngũ người săn tin mới các bác xe ôm end \n",
      "Predicted summary:   end đã một ty nhiều có khi sĩ hình đã bộ ấn bị đã bộ ấn bị bị hàng triệu đây khởi\n",
      "\n",
      "Original summary:  start nhà lãnh đạo bắc hàn ông kim jongun đã gửi một thông điệp cá nhân hiếm hoi chúc mừng chủ tịch trung quốc tập cận bình end \n",
      "Predicted summary:   end kỳ nguyễn an phường chuyện mạng thiết nhiều phường chuyện có với sẽ phạm vụ bắc mừng bay dịch của việt gia\n",
      "\n",
      "Original summary:  start tháng đầu năm campuchia xuất sang việt nam tấn xoài tươi chiếm tổng lượng xoài xuất khẩu của quốc gia này end \n",
      "Predicted summary:   end quốc không lượt chứng các sát nơi trường với sẽ trường công ngay vật các quốc xử động từ với sẽ trường công ngay vật các quốc xử động từ tác sách\n",
      "\n",
      "Original summary:  start hai hoa hậu thế hệ gen là trần tiểu vy lương thuỳ linh cùng xuất hiện ấn tượng trên tạp chí vogue mỹ trong các thiết kế mới nhất của ntk công trí end \n",
      "Predicted summary:   end thu chỉ kết tình rừng nội nội nội nội nội nội trích nội nội trích nội nội trích nội trích nội trích nội trích nội trích nội trích nội trích nội trích nội trích nội trích nội trích nội trích nội trích nội trích nội trích nội trích nội trích nội trích nội trích nội trích nội trích\n",
      "\n",
      "Original summary:  start tây ninh end \n",
      "Predicted summary:   end thể vàng\n",
      "\n",
      "Original summary:  start một hố sâu chứa đầy nước nóng bất ngờ xuất hiện bên ngoài một trung tâm thương mại vùng siberia thuộc nga đã nuốt chửng hai chiếc xe hơi đậu phía trên end \n",
      "Predicted summary:   end đã một ty nhiều có khi sĩ hình đã tư giới hoà can án vọt là điều tay là điều tay đồng xã lồng\n",
      "\n",
      "Original summary:  start giá vàng sjc sáng nay chỉ giảm đồng một lượng dù thị trường kim loại quý thế giới đêm qua biến động mạnh end \n",
      "Predicted summary:   end đầu dân đi nhất số phan do may của tại đầu dân đi nhất số phan do may của việt đầu dân đi nhất số ly\n",
      "\n",
      "Original summary:  start võ sĩ nghiệp dư người brazil lucas gabriel peres đã qua đời trong bệnh viện chỉ hai tuần sau khi bị knockout trong trận đấu ngày thuộc sự kiện của mỹ end \n",
      "Predicted summary:   end mang chỉ một an có khi florida mốc mốc mốc nói đua một tán mã tại khi florida mốc mốc ra đã một ty nhiều khi văn\n",
      "\n",
      "Original summary:  start mong muốn có một không gian xanh để gia đình nghỉ dưỡng cũng như giúp các con được trải nghiệm cuộc sống làng quê bình dị anh hiếu về đồng nai mua đất tự tay cải tạo thành khu nhà vườn đẹp mê end \n",
      "Predicted summary:   end thanh gây\n",
      "\n",
      "Original summary:  start đây là ảnh chụp kim jongnam khi còn nhỏ ông là anh trai của lãnh đạo bắc hàn kim jongun end \n",
      "Predicted summary:   end đã một ty nhiều có khi sĩ hình đã bộ ấn bị đã bộ ấn bị bị hàng triệu đây khởi\n",
      "\n",
      "Original summary:  start ngân hàng trung ương nga tăng lãi suất chính lên để chống lạm phát end \n",
      "Predicted summary:   end đầu phương đầu như như số bắt như hệ được nay tp trên man giảm tại hoa đầu như do gần như\n",
      "\n",
      "Original summary:  start ngày cơ quan cảnh sát điều tra công an huyện ứng hoà hà nội đã tạm giữ hình sự đối tượng trịnh thị hằng sn trú tại xã hoà nam huyện ứng hoà để điều tra hành vi trộm cắp tài sản end \n",
      "Predicted summary:   end năm tại khi sĩ hình hành thương kết tình mỏ cướp trăm cho usd phí hoàn bằng căn tai triệu lý tài có sĩ hình hành thương kết tình cướp trích usd phí hoàn bằng căn tai triệu tốc mai\n",
      "\n",
      "Original summary:  start sáng sớm khi đi thể dục một số người dân huyện đắk mil tỉnh đắk nông phát hiện thi thể một người đàn ông nằm giữa đường nghi do bị xe tô tông end \n",
      "Predicted summary:   end năm tại khi sĩ hình đã tư giới hoà can giới hợp tay can án vọt khi văn riêng donald\n",
      "\n",
      "Original summary:  start nhạc sĩ anh bằng đã qua đời tối ngày tại nhà riêng nam california hoa kỳ end \n",
      "Predicted summary:   end thu chỉ kết tình rừng nội nội nội nội nội trích nội trích nội trích nội trích nội trích nội trích nội trích nội trích nội trích nội trích nội trích nội trích nội trích nội trích nội trích nội trích nội trích nội trích nội trích nội trích nội trích nội trích nội trích nội trích nội\n",
      "\n",
      "Original summary:  start tính liên kết của hệ thống ống dẫn nhiên liệu trên xe bentley bentayga đã bị nghi ngờ có lỗi từ năm end \n",
      "Predicted summary:   end đã một ty nhiều có khi sĩ hình đã tư giới hợp tay can án động từ khi văn riêng\n",
      "\n"
     ]
    }
   ],
   "source": [
    "reference = []\n",
    "hypothesis = []\n",
    "# Testing on training data\n",
    "for i in range(0, 15):\n",
    "    print(\"Original summary: \", seq2summary(y_train_padded[i]))\n",
    "    print(\n",
    "        \"Predicted summary: \",\n",
    "        decode_sequence_hybrid_seq2seq_model(\n",
    "            x_train_padded[i].reshape(1, max_text_len), encoder_model,\n",
    "            decoder_model\n",
    "        )\n",
    "    )\n",
    "    print()\n",
    "\n",
    "for i in range(0, 100):\n",
    "    reference.append(seq2summary(y_train_padded[i]))\n",
    "    hypothesis.append(decode_sequence_hybrid_seq2seq_model(x_train_padded[i].reshape(1, max_text_len), encoder_model,decoder_model))"
   ]
  },
  {
   "cell_type": "markdown",
   "id": "0d423b28",
   "metadata": {
    "papermill": {
     "duration": 0.71537,
     "end_time": "2022-05-15T00:26:15.944997",
     "exception": false,
     "start_time": "2022-05-15T00:26:15.229627",
     "status": "completed"
    },
    "tags": []
   },
   "source": [
    "# Calculating Rouge Scores"
   ]
  },
  {
   "cell_type": "code",
   "execution_count": 55,
   "id": "46a4d99e",
   "metadata": {
    "execution": {
     "iopub.execute_input": "2022-05-15T00:26:17.388040Z",
     "iopub.status.busy": "2022-05-15T00:26:17.387442Z",
     "iopub.status.idle": "2022-05-15T00:26:32.216821Z",
     "shell.execute_reply": "2022-05-15T00:26:32.215513Z"
    },
    "papermill": {
     "duration": 15.548888,
     "end_time": "2022-05-15T00:26:32.219347",
     "exception": false,
     "start_time": "2022-05-15T00:26:16.670459",
     "status": "completed"
    },
    "tags": []
   },
   "outputs": [
    {
     "name": "stdout",
     "output_type": "stream",
     "text": [
      "Collecting rouge\r\n",
      "  Downloading rouge-1.0.1-py3-none-any.whl (13 kB)\r\n",
      "Requirement already satisfied: six in /opt/conda/lib/python3.7/site-packages (from rouge) (1.16.0)\r\n",
      "Installing collected packages: rouge\r\n",
      "Successfully installed rouge-1.0.1\r\n",
      "\u001b[33mWARNING: Running pip as the 'root' user can result in broken permissions and conflicting behaviour with the system package manager. It is recommended to use a virtual environment instead: https://pip.pypa.io/warnings/venv\u001b[0m\u001b[33m\r\n",
      "\u001b[0m"
     ]
    }
   ],
   "source": [
    "! pip install rouge"
   ]
  },
  {
   "cell_type": "code",
   "execution_count": 56,
   "id": "4da0ec0c",
   "metadata": {
    "execution": {
     "iopub.execute_input": "2022-05-15T00:26:33.718127Z",
     "iopub.status.busy": "2022-05-15T00:26:33.717611Z",
     "iopub.status.idle": "2022-05-15T00:26:33.731817Z",
     "shell.execute_reply": "2022-05-15T00:26:33.730814Z"
    },
    "papermill": {
     "duration": 0.770621,
     "end_time": "2022-05-15T00:26:33.734604",
     "exception": false,
     "start_time": "2022-05-15T00:26:32.963983",
     "status": "completed"
    },
    "tags": []
   },
   "outputs": [],
   "source": [
    "from rouge import Rouge"
   ]
  },
  {
   "cell_type": "code",
   "execution_count": 57,
   "id": "a799f051",
   "metadata": {
    "execution": {
     "iopub.execute_input": "2022-05-15T00:26:35.188513Z",
     "iopub.status.busy": "2022-05-15T00:26:35.188020Z",
     "iopub.status.idle": "2022-05-15T00:26:35.318405Z",
     "shell.execute_reply": "2022-05-15T00:26:35.316972Z"
    },
    "papermill": {
     "duration": 0.84541,
     "end_time": "2022-05-15T00:26:35.321381",
     "exception": false,
     "start_time": "2022-05-15T00:26:34.475971",
     "status": "completed"
    },
    "tags": []
   },
   "outputs": [
    {
     "data": {
      "text/plain": [
       "{'rouge-1': {'r': 0.09936786796651345,\n",
       "  'p': 0.18046630193540264,\n",
       "  'f': 0.11575064477362774},\n",
       " 'rouge-2': {'r': 0.00035714285714285714,\n",
       "  'p': 0.000588235294117647,\n",
       "  'f': 0.0004444443974321038},\n",
       " 'rouge-l': {'r': 0.06818106484963458,\n",
       "  'p': 0.13257641712165025,\n",
       "  'f': 0.07936718619906767}}"
      ]
     },
     "execution_count": 57,
     "metadata": {},
     "output_type": "execute_result"
    }
   ],
   "source": [
    "score = Rouge()\n",
    "score.get_scores(hypothesis, reference, avg = True)"
   ]
  }
 ],
 "metadata": {
  "kernelspec": {
   "display_name": "Python 3",
   "language": "python",
   "name": "python3"
  },
  "language_info": {
   "codemirror_mode": {
    "name": "ipython",
    "version": 3
   },
   "file_extension": ".py",
   "mimetype": "text/x-python",
   "name": "python",
   "nbconvert_exporter": "python",
   "pygments_lexer": "ipython3",
   "version": "3.7.12"
  },
  "papermill": {
   "default_parameters": {},
   "duration": 36352.653012,
   "end_time": "2022-05-15T00:26:39.492311",
   "environment_variables": {},
   "exception": null,
   "input_path": "__notebook__.ipynb",
   "output_path": "__notebook__.ipynb",
   "parameters": {},
   "start_time": "2022-05-14T14:20:46.839299",
   "version": "2.3.4"
  }
 },
 "nbformat": 4,
 "nbformat_minor": 5
}
