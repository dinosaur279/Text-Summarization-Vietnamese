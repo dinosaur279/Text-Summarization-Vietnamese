{
 "cells": [
  {
   "cell_type": "code",
   "execution_count": 1,
   "id": "e2551cde",
   "metadata": {
    "execution": {
     "iopub.execute_input": "2022-05-15T15:12:24.040344Z",
     "iopub.status.busy": "2022-05-15T15:12:24.039640Z",
     "iopub.status.idle": "2022-05-15T15:12:30.269314Z",
     "shell.execute_reply": "2022-05-15T15:12:30.268431Z"
    },
    "papermill": {
     "duration": 6.277227,
     "end_time": "2022-05-15T15:12:30.271780",
     "exception": false,
     "start_time": "2022-05-15T15:12:23.994553",
     "status": "completed"
    },
    "tags": []
   },
   "outputs": [],
   "source": [
    "import re\n",
    "import os\n",
    "import numpy as np\n",
    "import pandas as pd\n",
    "import matplotlib.pyplot as plt\n",
    "import string\n",
    "\n",
    "import nltk\n",
    "from keras.preprocessing.text import Tokenizer\n",
    "from keras.preprocessing.sequence import pad_sequences\n",
    "\n",
    "import tensorflow as tf\n",
    "from tensorflow.keras.layers import Input, LSTM, Embedding, Dense, Concatenate, TimeDistributed, Bidirectional\n",
    "from tensorflow.keras.models import Model\n",
    "from tensorflow.keras.callbacks import EarlyStopping\n",
    "from keras import backend as K \n",
    "from tensorflow.python.keras.layers import Layer"
   ]
  },
  {
   "cell_type": "code",
   "execution_count": 2,
   "id": "fef9be43",
   "metadata": {
    "execution": {
     "iopub.execute_input": "2022-05-15T15:12:30.364612Z",
     "iopub.status.busy": "2022-05-15T15:12:30.364346Z",
     "iopub.status.idle": "2022-05-15T15:12:43.689925Z",
     "shell.execute_reply": "2022-05-15T15:12:43.689201Z"
    },
    "papermill": {
     "duration": 13.371988,
     "end_time": "2022-05-15T15:12:43.692781",
     "exception": false,
     "start_time": "2022-05-15T15:12:30.320793",
     "status": "completed"
    },
    "tags": []
   },
   "outputs": [
    {
     "name": "stdout",
     "output_type": "stream",
     "text": [
      "Dataset size: 102681\n"
     ]
    },
    {
     "name": "stderr",
     "output_type": "stream",
     "text": [
      "/opt/conda/lib/python3.7/site-packages/ipykernel_launcher.py:2: FutureWarning: In a future version of pandas all arguments of DataFrame.drop except for the argument 'labels' will be keyword-only\n",
      "  \n"
     ]
    },
    {
     "data": {
      "text/html": [
       "<div>\n",
       "<style scoped>\n",
       "    .dataframe tbody tr th:only-of-type {\n",
       "        vertical-align: middle;\n",
       "    }\n",
       "\n",
       "    .dataframe tbody tr th {\n",
       "        vertical-align: top;\n",
       "    }\n",
       "\n",
       "    .dataframe thead th {\n",
       "        text-align: right;\n",
       "    }\n",
       "</style>\n",
       "<table border=\"1\" class=\"dataframe\">\n",
       "  <thead>\n",
       "    <tr style=\"text-align: right;\">\n",
       "      <th></th>\n",
       "      <th>Summary</th>\n",
       "      <th>Text</th>\n",
       "    </tr>\n",
       "  </thead>\n",
       "  <tbody>\n",
       "    <tr>\n",
       "      <th>0</th>\n",
       "      <td>Ngay khi bắt tay ai đó có thể chúng ta đã cảm ...</td>\n",
       "      <td>Tổng thống Mỹ Donald Trump và Tổng thống Pháp ...</td>\n",
       "    </tr>\n",
       "    <tr>\n",
       "      <th>1</th>\n",
       "      <td>Rời khỏi Việt Nam vào 10/2016, ông Vũ Đình Duy...</td>\n",
       "      <td>Vũ Đình Duy hồi tháng 5 xuất hiện trước tòa tạ...</td>\n",
       "    </tr>\n",
       "    <tr>\n",
       "      <th>2</th>\n",
       "      <td>Thủ tướng Iraq xác nhận với BBC rằng Syria khô...</td>\n",
       "      <td>Ông Maliki xác nhận các vụ không kích của Syri...</td>\n",
       "    </tr>\n",
       "    <tr>\n",
       "      <th>3</th>\n",
       "      <td>Người Việt Nam biết rất ít về ông Trump nhưng ...</td>\n",
       "      <td>Tiến sỹ Vũ Cao Phan tin rằng nếu được tiến hàn...</td>\n",
       "    </tr>\n",
       "    <tr>\n",
       "      <th>4</th>\n",
       "      <td>Bốn khoa học gia người Mỹ từng đoạt giải Nobel...</td>\n",
       "      <td>GS Jack Steinberger trao đổi với GS Lê Kim Ngọ...</td>\n",
       "    </tr>\n",
       "  </tbody>\n",
       "</table>\n",
       "</div>"
      ],
      "text/plain": [
       "                                             Summary  \\\n",
       "0  Ngay khi bắt tay ai đó có thể chúng ta đã cảm ...   \n",
       "1  Rời khỏi Việt Nam vào 10/2016, ông Vũ Đình Duy...   \n",
       "2  Thủ tướng Iraq xác nhận với BBC rằng Syria khô...   \n",
       "3  Người Việt Nam biết rất ít về ông Trump nhưng ...   \n",
       "4  Bốn khoa học gia người Mỹ từng đoạt giải Nobel...   \n",
       "\n",
       "                                                Text  \n",
       "0  Tổng thống Mỹ Donald Trump và Tổng thống Pháp ...  \n",
       "1  Vũ Đình Duy hồi tháng 5 xuất hiện trước tòa tạ...  \n",
       "2  Ông Maliki xác nhận các vụ không kích của Syri...  \n",
       "3  Tiến sỹ Vũ Cao Phan tin rằng nếu được tiến hàn...  \n",
       "4  GS Jack Steinberger trao đổi với GS Lê Kim Ngọ...  "
      ]
     },
     "execution_count": 2,
     "metadata": {},
     "output_type": "execute_result"
    }
   ],
   "source": [
    "filename = r\"../input/summary-vietnamese/data_summary.csv\"\n",
    "df = pd.read_csv(filename).drop('Unnamed: 0',1)\n",
    "print(f'Dataset size: {len(df)}')\n",
    "df.head(5)"
   ]
  },
  {
   "cell_type": "code",
   "execution_count": 3,
   "id": "0c144070",
   "metadata": {
    "execution": {
     "iopub.execute_input": "2022-05-15T15:12:43.835070Z",
     "iopub.status.busy": "2022-05-15T15:12:43.834740Z",
     "iopub.status.idle": "2022-05-15T15:12:44.335785Z",
     "shell.execute_reply": "2022-05-15T15:12:44.334982Z"
    },
    "papermill": {
     "duration": 0.575445,
     "end_time": "2022-05-15T15:12:44.338280",
     "exception": false,
     "start_time": "2022-05-15T15:12:43.762835",
     "status": "completed"
    },
    "tags": []
   },
   "outputs": [
    {
     "name": "stdout",
     "output_type": "stream",
     "text": [
      "Dataset size: 96284\n"
     ]
    },
    {
     "data": {
      "text/html": [
       "<div>\n",
       "<style scoped>\n",
       "    .dataframe tbody tr th:only-of-type {\n",
       "        vertical-align: middle;\n",
       "    }\n",
       "\n",
       "    .dataframe tbody tr th {\n",
       "        vertical-align: top;\n",
       "    }\n",
       "\n",
       "    .dataframe thead th {\n",
       "        text-align: right;\n",
       "    }\n",
       "</style>\n",
       "<table border=\"1\" class=\"dataframe\">\n",
       "  <thead>\n",
       "    <tr style=\"text-align: right;\">\n",
       "      <th></th>\n",
       "      <th>Summary</th>\n",
       "      <th>Text</th>\n",
       "    </tr>\n",
       "  </thead>\n",
       "  <tbody>\n",
       "    <tr>\n",
       "      <th>0</th>\n",
       "      <td>Ngay khi bắt tay ai đó có thể chúng ta đã cảm ...</td>\n",
       "      <td>Tổng thống Mỹ Donald Trump và Tổng thống Pháp ...</td>\n",
       "    </tr>\n",
       "    <tr>\n",
       "      <th>1</th>\n",
       "      <td>Rời khỏi Việt Nam vào 10/2016, ông Vũ Đình Duy...</td>\n",
       "      <td>Vũ Đình Duy hồi tháng 5 xuất hiện trước tòa tạ...</td>\n",
       "    </tr>\n",
       "    <tr>\n",
       "      <th>2</th>\n",
       "      <td>Thủ tướng Iraq xác nhận với BBC rằng Syria khô...</td>\n",
       "      <td>Ông Maliki xác nhận các vụ không kích của Syri...</td>\n",
       "    </tr>\n",
       "    <tr>\n",
       "      <th>3</th>\n",
       "      <td>Người Việt Nam biết rất ít về ông Trump nhưng ...</td>\n",
       "      <td>Tiến sỹ Vũ Cao Phan tin rằng nếu được tiến hàn...</td>\n",
       "    </tr>\n",
       "    <tr>\n",
       "      <th>4</th>\n",
       "      <td>Bốn khoa học gia người Mỹ từng đoạt giải Nobel...</td>\n",
       "      <td>GS Jack Steinberger trao đổi với GS Lê Kim Ngọ...</td>\n",
       "    </tr>\n",
       "  </tbody>\n",
       "</table>\n",
       "</div>"
      ],
      "text/plain": [
       "                                             Summary  \\\n",
       "0  Ngay khi bắt tay ai đó có thể chúng ta đã cảm ...   \n",
       "1  Rời khỏi Việt Nam vào 10/2016, ông Vũ Đình Duy...   \n",
       "2  Thủ tướng Iraq xác nhận với BBC rằng Syria khô...   \n",
       "3  Người Việt Nam biết rất ít về ông Trump nhưng ...   \n",
       "4  Bốn khoa học gia người Mỹ từng đoạt giải Nobel...   \n",
       "\n",
       "                                                Text  \n",
       "0  Tổng thống Mỹ Donald Trump và Tổng thống Pháp ...  \n",
       "1  Vũ Đình Duy hồi tháng 5 xuất hiện trước tòa tạ...  \n",
       "2  Ông Maliki xác nhận các vụ không kích của Syri...  \n",
       "3  Tiến sỹ Vũ Cao Phan tin rằng nếu được tiến hàn...  \n",
       "4  GS Jack Steinberger trao đổi với GS Lê Kim Ngọ...  "
      ]
     },
     "execution_count": 3,
     "metadata": {},
     "output_type": "execute_result"
    }
   ],
   "source": [
    "'''Loại bỏ các giá trị trùng lặp và giá trị rỗng'''\n",
    "\n",
    "df.drop_duplicates(subset=['Text'],inplace=True) #dropping duplicates\n",
    "df.dropna(axis=0,inplace=True) #dropping na\n",
    "df = df.reset_index().drop('index', axis = 1)\n",
    "print(f'Dataset size: {len(df)}')\n",
    "df.head(5)"
   ]
  },
  {
   "cell_type": "markdown",
   "id": "d296132e",
   "metadata": {
    "papermill": {
     "duration": 0.043805,
     "end_time": "2022-05-15T15:12:44.425927",
     "exception": false,
     "start_time": "2022-05-15T15:12:44.382122",
     "status": "completed"
    },
    "tags": []
   },
   "source": [
    "# Data preparation"
   ]
  },
  {
   "cell_type": "code",
   "execution_count": 4,
   "id": "4751ffd5",
   "metadata": {
    "execution": {
     "iopub.execute_input": "2022-05-15T15:12:44.515001Z",
     "iopub.status.busy": "2022-05-15T15:12:44.514746Z",
     "iopub.status.idle": "2022-05-15T15:12:44.537016Z",
     "shell.execute_reply": "2022-05-15T15:12:44.536246Z"
    },
    "papermill": {
     "duration": 0.069426,
     "end_time": "2022-05-15T15:12:44.538950",
     "exception": false,
     "start_time": "2022-05-15T15:12:44.469524",
     "status": "completed"
    },
    "tags": []
   },
   "outputs": [],
   "source": [
    "def cleanWord(s):\n",
    "    miss = ['!','@','#','$','%','^','&','*','(',')','-','–','_','+','=','{','[','}',']','|',':',';','?','/','<','>','~','`','‘','’',',','()','“','\"', '...','”', '“”','\\\\', '>>', '>>>']\n",
    "    for i in miss:\n",
    "        s = s.replace(i,'')\n",
    "    return re.sub(r'\\'', '', s)\n",
    "\n",
    "def remove_link(string):\n",
    "    return re.sub(r'\\w+:\\/{2}[\\d\\w-]+(\\.[\\d\\w-]+)*(?:(?:\\/[^\\s/]*))*', '', string)\n",
    "\n",
    "def remove_extra_whitespace(string):\n",
    "    text = re.sub(r'\\s+', ' ', string).strip()\n",
    "    return text\n",
    "\n",
    "def lower_word(data):\n",
    "    return data.lower()\n",
    "\n",
    "# Remove numbers from text\n",
    "def rm_number_from_text(text):\n",
    "    text = re.sub('[0-9]+', '', text)\n",
    "    return ' '.join(text.split())  # to rm `extra` white space\n",
    "\n",
    "# Remove puncuation from word\n",
    "def rm_punc_from_word(word):\n",
    "    clean_alphabet_list = [alphabet for alphabet in word if alphabet not in string.punctuation]\n",
    "    return ''.join(clean_alphabet_list)\n",
    "\n",
    "# Remove puncuation from text\n",
    "def rm_punc_from_text(text):\n",
    "    clean_word_list = [rm_punc_from_word(word) for word in text]\n",
    "    return ''.join(clean_word_list)\n",
    "\n",
    "\n",
    "# Cleaning text\n",
    "def clean_text(text):\n",
    "    text = text.lower()\n",
    "    text = rm_number_from_text(text)\n",
    "    text = rm_punc_from_text(text)\n",
    "\n",
    "    # there are hyphen(–) in many titles, so replacing it with empty str\n",
    "    # this hyphen(–) is different from normal hyphen(-)\n",
    "    text = re.sub('–', '', text)\n",
    "    text = ' '.join(text.split())  # removing `extra` white spaces\n",
    "\n",
    "    # Removing unnecessary characters from text\n",
    "    text = re.sub(\"(\\\\t)\", ' ', str(text)).lower()\n",
    "    text = re.sub(\"(\\\\r)\", ' ', str(text)).lower()\n",
    "    text = re.sub(\"(\\\\n)\", ' ', str(text)).lower()\n",
    "\n",
    "    text = re.sub(\"(__+)\", ' ', str(text)).lower()\n",
    "    text = re.sub(\"(--+)\", ' ', str(text)).lower()\n",
    "    text = re.sub(\"(~~+)\", ' ', str(text)).lower()\n",
    "    text = re.sub(\"(\\+\\++)\", ' ', str(text)).lower()\n",
    "    text = re.sub(\"(\\.\\.+)\", ' ', str(text)).lower()\n",
    "\n",
    "    text = re.sub(r\"[<>()|&©ø\\[\\]\\'\\\",;?~*!]\", ' ', str(text)).lower()\n",
    "\n",
    "    text = re.sub(\"(mailto:)\", ' ', str(text)).lower()\n",
    "    text = re.sub(r\"(\\\\x9\\d)\", ' ', str(text)).lower()\n",
    "    text = re.sub(\"([iI][nN][cC]\\d+)\", 'INC_NUM', str(text)).lower()\n",
    "    text = re.sub(\"([cC][mM]\\d+)|([cC][hH][gG]\\d+)\", 'CM_NUM',str(text)).lower()\n",
    "\n",
    "    text = re.sub(\"(\\.\\s+)\", ' ', str(text)).lower()\n",
    "    text = re.sub(\"(\\-\\s+)\", ' ', str(text)).lower()\n",
    "    text = re.sub(\"(\\:\\s+)\", ' ', str(text)).lower()\n",
    "    text = re.sub(\"(\\s+.\\s+)\", ' ', str(text)).lower()\n",
    "\n",
    "    try:\n",
    "        url = re.search(r'((https*:\\/*)([^\\/\\s]+))(.[^\\s]+)', str(text))\n",
    "        repl_url = url.group(3)\n",
    "        text = re.sub(r'((https*:\\/*)([^\\/\\s]+))(.[^\\s]+)', repl_url, str(text))\n",
    "    except Exception as e:\n",
    "        pass\n",
    "\n",
    "    text = re.sub(\"(\\s+)\", ' ', str(text)).lower()\n",
    "    text = re.sub(\"(\\s+.\\s+)\", ' ', str(text)).lower()\n",
    "\n",
    "    return text\n",
    "\n",
    "def solve(string):\n",
    "    func = [lower_word, remove_link, remove_extra_whitespace, cleanWord, clean_text]\n",
    "    for i in func:\n",
    "        string = i(string)\n",
    "    return string"
   ]
  },
  {
   "cell_type": "code",
   "execution_count": 5,
   "id": "dd1b0b9e",
   "metadata": {
    "execution": {
     "iopub.execute_input": "2022-05-15T15:12:44.627533Z",
     "iopub.status.busy": "2022-05-15T15:12:44.627280Z",
     "iopub.status.idle": "2022-05-15T15:21:40.827433Z",
     "shell.execute_reply": "2022-05-15T15:21:40.826636Z"
    },
    "papermill": {
     "duration": 536.29184,
     "end_time": "2022-05-15T15:21:40.874125",
     "exception": false,
     "start_time": "2022-05-15T15:12:44.582285",
     "status": "completed"
    },
    "tags": []
   },
   "outputs": [
    {
     "data": {
      "text/html": [
       "<div>\n",
       "<style scoped>\n",
       "    .dataframe tbody tr th:only-of-type {\n",
       "        vertical-align: middle;\n",
       "    }\n",
       "\n",
       "    .dataframe tbody tr th {\n",
       "        vertical-align: top;\n",
       "    }\n",
       "\n",
       "    .dataframe thead th {\n",
       "        text-align: right;\n",
       "    }\n",
       "</style>\n",
       "<table border=\"1\" class=\"dataframe\">\n",
       "  <thead>\n",
       "    <tr style=\"text-align: right;\">\n",
       "      <th></th>\n",
       "      <th>Summary</th>\n",
       "      <th>Text</th>\n",
       "    </tr>\n",
       "  </thead>\n",
       "  <tbody>\n",
       "    <tr>\n",
       "      <th>0</th>\n",
       "      <td>ngay khi bắt tay ai đó có thể chúng ta đã cảm ...</td>\n",
       "      <td>tổng thống mỹ donald trump và tổng thống pháp ...</td>\n",
       "    </tr>\n",
       "    <tr>\n",
       "      <th>1</th>\n",
       "      <td>rời khỏi việt nam vào ông vũ đình duy tới sống...</td>\n",
       "      <td>vũ đình duy hồi tháng xuất hiện trước tòa tại ...</td>\n",
       "    </tr>\n",
       "    <tr>\n",
       "      <th>2</th>\n",
       "      <td>thủ tướng iraq xác nhận với bbc rằng syria khô...</td>\n",
       "      <td>ông maliki xác nhận các vụ không kích của syri...</td>\n",
       "    </tr>\n",
       "    <tr>\n",
       "      <th>3</th>\n",
       "      <td>người việt nam biết rất ít về ông trump nhưng ...</td>\n",
       "      <td>tiến sỹ vũ cao phan tin rằng nếu được tiến hàn...</td>\n",
       "    </tr>\n",
       "    <tr>\n",
       "      <th>4</th>\n",
       "      <td>bốn khoa học gia người mỹ từng đoạt giải nobel...</td>\n",
       "      <td>gs jack steinberger trao đổi với gs lê kim ngọ...</td>\n",
       "    </tr>\n",
       "  </tbody>\n",
       "</table>\n",
       "</div>"
      ],
      "text/plain": [
       "                                             Summary  \\\n",
       "0  ngay khi bắt tay ai đó có thể chúng ta đã cảm ...   \n",
       "1  rời khỏi việt nam vào ông vũ đình duy tới sống...   \n",
       "2  thủ tướng iraq xác nhận với bbc rằng syria khô...   \n",
       "3  người việt nam biết rất ít về ông trump nhưng ...   \n",
       "4  bốn khoa học gia người mỹ từng đoạt giải nobel...   \n",
       "\n",
       "                                                Text  \n",
       "0  tổng thống mỹ donald trump và tổng thống pháp ...  \n",
       "1  vũ đình duy hồi tháng xuất hiện trước tòa tại ...  \n",
       "2  ông maliki xác nhận các vụ không kích của syri...  \n",
       "3  tiến sỹ vũ cao phan tin rằng nếu được tiến hàn...  \n",
       "4  gs jack steinberger trao đổi với gs lê kim ngọ...  "
      ]
     },
     "execution_count": 5,
     "metadata": {},
     "output_type": "execute_result"
    }
   ],
   "source": [
    "df.Text = df.Text.apply(lambda x: solve(str(x)))\n",
    "df.Summary = df.Summary.apply(lambda x: solve(str(x)))\n",
    "df.head(5)"
   ]
  },
  {
   "cell_type": "markdown",
   "id": "0c282f3b",
   "metadata": {
    "papermill": {
     "duration": 0.043305,
     "end_time": "2022-05-15T15:21:40.961400",
     "exception": false,
     "start_time": "2022-05-15T15:21:40.918095",
     "status": "completed"
    },
    "tags": []
   },
   "source": [
    "Finding what should be the **maximum length** of **Text** and **Summary** that will be feed or accepted by the learning algorithm"
   ]
  },
  {
   "cell_type": "code",
   "execution_count": 6,
   "id": "448cfe67",
   "metadata": {
    "execution": {
     "iopub.execute_input": "2022-05-15T15:21:41.051430Z",
     "iopub.status.busy": "2022-05-15T15:21:41.051177Z",
     "iopub.status.idle": "2022-05-15T15:21:47.970722Z",
     "shell.execute_reply": "2022-05-15T15:21:47.969994Z"
    },
    "papermill": {
     "duration": 6.967674,
     "end_time": "2022-05-15T15:21:47.972671",
     "exception": false,
     "start_time": "2022-05-15T15:21:41.004997",
     "status": "completed"
    },
    "tags": []
   },
   "outputs": [
    {
     "data": {
      "image/png": "[encoded data removed]",
      "text/plain": [
       "<Figure size 1152x288 with 2 Axes>"
      ]
     },
     "metadata": {
      "needs_background": "light"
     },
     "output_type": "display_data"
    }
   ],
   "source": [
    "text_count = [len(sentence.split()) for sentence in df.Text]\n",
    "summary_count = [len(sentence.split()) for sentence in df.Summary]\n",
    "\n",
    "pd.DataFrame({'Text': text_count, 'Summary': summary_count}).hist(bins=100, figsize=(16, 4))\n",
    "plt.show()"
   ]
  },
  {
   "cell_type": "code",
   "execution_count": 7,
   "id": "e2c6db53",
   "metadata": {
    "execution": {
     "iopub.execute_input": "2022-05-15T15:21:48.109839Z",
     "iopub.status.busy": "2022-05-15T15:21:48.109561Z",
     "iopub.status.idle": "2022-05-15T15:21:54.587528Z",
     "shell.execute_reply": "2022-05-15T15:21:54.586718Z"
    },
    "papermill": {
     "duration": 6.563774,
     "end_time": "2022-05-15T15:21:54.589565",
     "exception": false,
     "start_time": "2022-05-15T15:21:48.025791",
     "status": "completed"
    },
    "tags": []
   },
   "outputs": [
    {
     "name": "stdout",
     "output_type": "stream",
     "text": [
      "0.99\n",
      "0.15\n"
     ]
    }
   ],
   "source": [
    "# To check how many rows in a column has length (of the text) <= limit\n",
    "def get_word_percent(column, limit):\n",
    "    count = 0\n",
    "    for sentence in column:\n",
    "        if len(sentence.split()) <= limit:\n",
    "            count += 1\n",
    "\n",
    "    return round(count / len(column), 2)\n",
    "\n",
    "\n",
    "# Check how many % of summary have 0-60 words\n",
    "print(get_word_percent(df.Summary, 60))\n",
    "\n",
    "# Check how many % of text have 0-300 words\n",
    "print(get_word_percent(df.Text, 300))"
   ]
  },
  {
   "cell_type": "code",
   "execution_count": 8,
   "id": "bf939b80",
   "metadata": {
    "execution": {
     "iopub.execute_input": "2022-05-15T15:21:54.682298Z",
     "iopub.status.busy": "2022-05-15T15:21:54.681612Z",
     "iopub.status.idle": "2022-05-15T15:21:54.685411Z",
     "shell.execute_reply": "2022-05-15T15:21:54.684636Z"
    },
    "papermill": {
     "duration": 0.052206,
     "end_time": "2022-05-15T15:21:54.687227",
     "exception": false,
     "start_time": "2022-05-15T15:21:54.635021",
     "status": "completed"
    },
    "tags": []
   },
   "outputs": [],
   "source": [
    "max_text_len = 300\n",
    "max_summary_len = 60"
   ]
  },
  {
   "cell_type": "code",
   "execution_count": 9,
   "id": "7e083ff9",
   "metadata": {
    "execution": {
     "iopub.execute_input": "2022-05-15T15:21:54.779754Z",
     "iopub.status.busy": "2022-05-15T15:21:54.779279Z",
     "iopub.status.idle": "2022-05-15T15:22:01.134924Z",
     "shell.execute_reply": "2022-05-15T15:22:01.134075Z"
    },
    "papermill": {
     "duration": 6.40411,
     "end_time": "2022-05-15T15:22:01.136951",
     "exception": false,
     "start_time": "2022-05-15T15:21:54.732841",
     "status": "completed"
    },
    "tags": []
   },
   "outputs": [
    {
     "name": "stdout",
     "output_type": "stream",
     "text": [
      "Dataset size: 14664\n"
     ]
    },
    {
     "data": {
      "text/html": [
       "<div>\n",
       "<style scoped>\n",
       "    .dataframe tbody tr th:only-of-type {\n",
       "        vertical-align: middle;\n",
       "    }\n",
       "\n",
       "    .dataframe tbody tr th {\n",
       "        vertical-align: top;\n",
       "    }\n",
       "\n",
       "    .dataframe thead th {\n",
       "        text-align: right;\n",
       "    }\n",
       "</style>\n",
       "<table border=\"1\" class=\"dataframe\">\n",
       "  <thead>\n",
       "    <tr style=\"text-align: right;\">\n",
       "      <th></th>\n",
       "      <th>Text</th>\n",
       "      <th>Summary</th>\n",
       "    </tr>\n",
       "  </thead>\n",
       "  <tbody>\n",
       "    <tr>\n",
       "      <th>0</th>\n",
       "      <td>ông maliki xác nhận các vụ không kích của syri...</td>\n",
       "      <td>thủ tướng iraq xác nhận với bbc rằng syria khô...</td>\n",
       "    </tr>\n",
       "    <tr>\n",
       "      <th>1</th>\n",
       "      <td>lý quang diệu được cho là người đứng đằng sau...</td>\n",
       "      <td>chính phủ singapore cho hay cựu thủ tướng ngườ...</td>\n",
       "    </tr>\n",
       "    <tr>\n",
       "      <th>2</th>\n",
       "      <td>ông hà kim ngọc thứ trưởng bộ ngoại giao phát ...</td>\n",
       "      <td>kết thúc phiên kiểm định định kỳ phổ quát về t...</td>\n",
       "    </tr>\n",
       "    <tr>\n",
       "      <th>3</th>\n",
       "      <td>hai bàn thắng của luis suarez hiệp một tạo lợi...</td>\n",
       "      <td>hlv manchester city manuel pellegrini tin rằng...</td>\n",
       "    </tr>\n",
       "    <tr>\n",
       "      <th>4</th>\n",
       "      <td>thủ hiến tiểu bang nam úc ông jay weatherill l...</td>\n",
       "      <td>một chính khách gốc việt từng là dân tỵ nạn ...</td>\n",
       "    </tr>\n",
       "  </tbody>\n",
       "</table>\n",
       "</div>"
      ],
      "text/plain": [
       "                                                Text  \\\n",
       "0  ông maliki xác nhận các vụ không kích của syri...   \n",
       "1  lý quang diệu được cho là người đứng đằng sau...   \n",
       "2  ông hà kim ngọc thứ trưởng bộ ngoại giao phát ...   \n",
       "3  hai bàn thắng của luis suarez hiệp một tạo lợi...   \n",
       "4  thủ hiến tiểu bang nam úc ông jay weatherill l...   \n",
       "\n",
       "                                             Summary  \n",
       "0  thủ tướng iraq xác nhận với bbc rằng syria khô...  \n",
       "1  chính phủ singapore cho hay cựu thủ tướng ngườ...  \n",
       "2  kết thúc phiên kiểm định định kỳ phổ quát về t...  \n",
       "3  hlv manchester city manuel pellegrini tin rằng...  \n",
       "4  một chính khách gốc việt từng là dân tỵ nạn ...  "
      ]
     },
     "execution_count": 9,
     "metadata": {},
     "output_type": "execute_result"
    }
   ],
   "source": [
    "# select the summary and text between their defined max lens respectively\n",
    "def trim_text_and_summary(df, max_text_len, max_summary_len):\n",
    "    cleaned_text = np.array(df['Text'])\n",
    "    cleaned_summary = np.array(df['Summary'])\n",
    "\n",
    "    short_text = []\n",
    "    short_summary = []\n",
    "\n",
    "    for i in range(len(cleaned_text)):\n",
    "        if len(cleaned_text[i].split()) <= max_text_len and len(\n",
    "            cleaned_summary[i].split()\n",
    "        ) <= max_summary_len:\n",
    "            short_text.append(cleaned_text[i])\n",
    "            short_summary.append(cleaned_summary[i])\n",
    "\n",
    "    df = pd.DataFrame({'Text': short_text, 'Summary': short_summary})\n",
    "    return df\n",
    "\n",
    "\n",
    "df = trim_text_and_summary(df, max_text_len, max_summary_len)\n",
    "print(f'Dataset size: {len(df)}')\n",
    "df.head(5)"
   ]
  },
  {
   "cell_type": "code",
   "execution_count": 10,
   "id": "3d03d9fe",
   "metadata": {
    "execution": {
     "iopub.execute_input": "2022-05-15T15:22:01.231242Z",
     "iopub.status.busy": "2022-05-15T15:22:01.230995Z",
     "iopub.status.idle": "2022-05-15T15:22:01.248594Z",
     "shell.execute_reply": "2022-05-15T15:22:01.247641Z"
    },
    "papermill": {
     "duration": 0.067297,
     "end_time": "2022-05-15T15:22:01.250988",
     "exception": false,
     "start_time": "2022-05-15T15:22:01.183691",
     "status": "completed"
    },
    "tags": []
   },
   "outputs": [],
   "source": [
    "df.Summary = df.Summary.apply(lambda x: '<start>' + ' '+ x + ' '+ '<end>')"
   ]
  },
  {
   "cell_type": "code",
   "execution_count": 11,
   "id": "663d7b01",
   "metadata": {
    "execution": {
     "iopub.execute_input": "2022-05-15T15:22:01.358428Z",
     "iopub.status.busy": "2022-05-15T15:22:01.358101Z",
     "iopub.status.idle": "2022-05-15T15:22:01.374787Z",
     "shell.execute_reply": "2022-05-15T15:22:01.373951Z"
    },
    "papermill": {
     "duration": 0.07908,
     "end_time": "2022-05-15T15:22:01.376692",
     "exception": false,
     "start_time": "2022-05-15T15:22:01.297612",
     "status": "completed"
    },
    "tags": []
   },
   "outputs": [
    {
     "data": {
      "text/html": [
       "<div>\n",
       "<style scoped>\n",
       "    .dataframe tbody tr th:only-of-type {\n",
       "        vertical-align: middle;\n",
       "    }\n",
       "\n",
       "    .dataframe tbody tr th {\n",
       "        vertical-align: top;\n",
       "    }\n",
       "\n",
       "    .dataframe thead th {\n",
       "        text-align: right;\n",
       "    }\n",
       "</style>\n",
       "<table border=\"1\" class=\"dataframe\">\n",
       "  <thead>\n",
       "    <tr style=\"text-align: right;\">\n",
       "      <th></th>\n",
       "      <th>Text</th>\n",
       "      <th>Summary</th>\n",
       "    </tr>\n",
       "  </thead>\n",
       "  <tbody>\n",
       "    <tr>\n",
       "      <th>0</th>\n",
       "      <td>ông maliki xác nhận các vụ không kích của syri...</td>\n",
       "      <td>&lt;start&gt; thủ tướng iraq xác nhận với bbc rằng s...</td>\n",
       "    </tr>\n",
       "    <tr>\n",
       "      <th>1</th>\n",
       "      <td>lý quang diệu được cho là người đứng đằng sau...</td>\n",
       "      <td>&lt;start&gt; chính phủ singapore cho hay cựu thủ tư...</td>\n",
       "    </tr>\n",
       "    <tr>\n",
       "      <th>2</th>\n",
       "      <td>ông hà kim ngọc thứ trưởng bộ ngoại giao phát ...</td>\n",
       "      <td>&lt;start&gt; kết thúc phiên kiểm định định kỳ phổ q...</td>\n",
       "    </tr>\n",
       "    <tr>\n",
       "      <th>3</th>\n",
       "      <td>hai bàn thắng của luis suarez hiệp một tạo lợi...</td>\n",
       "      <td>&lt;start&gt; hlv manchester city manuel pellegrini ...</td>\n",
       "    </tr>\n",
       "    <tr>\n",
       "      <th>4</th>\n",
       "      <td>thủ hiến tiểu bang nam úc ông jay weatherill l...</td>\n",
       "      <td>&lt;start&gt; một chính khách gốc việt từng là dân...</td>\n",
       "    </tr>\n",
       "    <tr>\n",
       "      <th>...</th>\n",
       "      <td>...</td>\n",
       "      <td>...</td>\n",
       "    </tr>\n",
       "    <tr>\n",
       "      <th>14659</th>\n",
       "      <td>cần thơ đẩy nhanh lịch thi học kỳ để chạy dịch...</td>\n",
       "      <td>&lt;start&gt; trước tình hình dịch covid &lt;end&gt;</td>\n",
       "    </tr>\n",
       "    <tr>\n",
       "      <th>14660</th>\n",
       "      <td>đây là những học sinh lớp tham gia dự thi kỳ t...</td>\n",
       "      <td>&lt;start&gt; bộ gdđt vừa công bố danh sách học sinh...</td>\n",
       "    </tr>\n",
       "    <tr>\n",
       "      <th>14661</th>\n",
       "      <td>cùng dân trí điểm những tin tức đáng chú ngành...</td>\n",
       "      <td>&lt;start&gt; bộ gd &lt;end&gt;</td>\n",
       "    </tr>\n",
       "    <tr>\n",
       "      <th>14662</th>\n",
       "      <td>chiều ngày sở gdđt tỉnh bà rịa vũng tàu phát t...</td>\n",
       "      <td>&lt;start&gt; tỉnh bà rịa &lt;end&gt;</td>\n",
       "    </tr>\n",
       "    <tr>\n",
       "      <th>14663</th>\n",
       "      <td>ngay từ sáng sớm trước giờ chính thức thi cả g...</td>\n",
       "      <td>&lt;start&gt; sáng nay hơn thí sinh thi vào trường p...</td>\n",
       "    </tr>\n",
       "  </tbody>\n",
       "</table>\n",
       "<p>14664 rows × 2 columns</p>\n",
       "</div>"
      ],
      "text/plain": [
       "                                                    Text  \\\n",
       "0      ông maliki xác nhận các vụ không kích của syri...   \n",
       "1      lý quang diệu được cho là người đứng đằng sau...   \n",
       "2      ông hà kim ngọc thứ trưởng bộ ngoại giao phát ...   \n",
       "3      hai bàn thắng của luis suarez hiệp một tạo lợi...   \n",
       "4      thủ hiến tiểu bang nam úc ông jay weatherill l...   \n",
       "...                                                  ...   \n",
       "14659  cần thơ đẩy nhanh lịch thi học kỳ để chạy dịch...   \n",
       "14660  đây là những học sinh lớp tham gia dự thi kỳ t...   \n",
       "14661  cùng dân trí điểm những tin tức đáng chú ngành...   \n",
       "14662  chiều ngày sở gdđt tỉnh bà rịa vũng tàu phát t...   \n",
       "14663  ngay từ sáng sớm trước giờ chính thức thi cả g...   \n",
       "\n",
       "                                                 Summary  \n",
       "0      <start> thủ tướng iraq xác nhận với bbc rằng s...  \n",
       "1      <start> chính phủ singapore cho hay cựu thủ tư...  \n",
       "2      <start> kết thúc phiên kiểm định định kỳ phổ q...  \n",
       "3      <start> hlv manchester city manuel pellegrini ...  \n",
       "4      <start> một chính khách gốc việt từng là dân...  \n",
       "...                                                  ...  \n",
       "14659           <start> trước tình hình dịch covid <end>  \n",
       "14660  <start> bộ gdđt vừa công bố danh sách học sinh...  \n",
       "14661                                <start> bộ gd <end>  \n",
       "14662                          <start> tỉnh bà rịa <end>  \n",
       "14663  <start> sáng nay hơn thí sinh thi vào trường p...  \n",
       "\n",
       "[14664 rows x 2 columns]"
      ]
     },
     "execution_count": 11,
     "metadata": {},
     "output_type": "execute_result"
    }
   ],
   "source": [
    "df"
   ]
  },
  {
   "cell_type": "code",
   "execution_count": 12,
   "id": "9f16814a",
   "metadata": {
    "execution": {
     "iopub.execute_input": "2022-05-15T15:22:01.473369Z",
     "iopub.status.busy": "2022-05-15T15:22:01.472718Z",
     "iopub.status.idle": "2022-05-15T15:22:01.477911Z",
     "shell.execute_reply": "2022-05-15T15:22:01.477199Z"
    },
    "papermill": {
     "duration": 0.055694,
     "end_time": "2022-05-15T15:22:01.479913",
     "exception": false,
     "start_time": "2022-05-15T15:22:01.424219",
     "status": "completed"
    },
    "tags": []
   },
   "outputs": [],
   "source": [
    "text=df.Text\n",
    "summary=df.Summary"
   ]
  },
  {
   "cell_type": "code",
   "execution_count": 13,
   "id": "0fab02cd",
   "metadata": {
    "execution": {
     "iopub.execute_input": "2022-05-15T15:22:01.576325Z",
     "iopub.status.busy": "2022-05-15T15:22:01.575980Z",
     "iopub.status.idle": "2022-05-15T15:22:01.581123Z",
     "shell.execute_reply": "2022-05-15T15:22:01.580392Z"
    },
    "papermill": {
     "duration": 0.05554,
     "end_time": "2022-05-15T15:22:01.582912",
     "exception": false,
     "start_time": "2022-05-15T15:22:01.527372",
     "status": "completed"
    },
    "tags": []
   },
   "outputs": [],
   "source": [
    "train_t=text[:int(len(text)*0.85)]\n",
    "test_t=text[int(len(text)*0.85):]\n",
    "train_s=summary[:int(len(text)*0.85)]\n",
    "test_s=summary[int(len(text)*0.85):]"
   ]
  },
  {
   "cell_type": "code",
   "execution_count": 14,
   "id": "20dfe7d8",
   "metadata": {
    "execution": {
     "iopub.execute_input": "2022-05-15T15:22:01.679351Z",
     "iopub.status.busy": "2022-05-15T15:22:01.678709Z",
     "iopub.status.idle": "2022-05-15T15:22:05.995245Z",
     "shell.execute_reply": "2022-05-15T15:22:05.993097Z"
    },
    "papermill": {
     "duration": 4.367252,
     "end_time": "2022-05-15T15:22:05.998136",
     "exception": false,
     "start_time": "2022-05-15T15:22:01.630884",
     "status": "completed"
    },
    "tags": []
   },
   "outputs": [
    {
     "name": "stdout",
     "output_type": "stream",
     "text": [
      "31081\n"
     ]
    }
   ],
   "source": [
    "tokenizer = Tokenizer(oov_token=\"<OOV>\", filters='')\n",
    "tokenizer1 = Tokenizer(oov_token=\"<OOV>\", filters='')\n",
    "tokenizer.fit_on_texts(train_t)\n",
    "tokenizer1.fit_on_texts(train_s)\n",
    "word_index = tokenizer.word_index\n",
    "print(len(word_index))"
   ]
  },
  {
   "cell_type": "code",
   "execution_count": 15,
   "id": "c88ee99d",
   "metadata": {
    "execution": {
     "iopub.execute_input": "2022-05-15T15:22:06.096240Z",
     "iopub.status.busy": "2022-05-15T15:22:06.095978Z",
     "iopub.status.idle": "2022-05-15T15:22:06.100814Z",
     "shell.execute_reply": "2022-05-15T15:22:06.099919Z"
    },
    "papermill": {
     "duration": 0.056989,
     "end_time": "2022-05-15T15:22:06.104755",
     "exception": false,
     "start_time": "2022-05-15T15:22:06.047766",
     "status": "completed"
    },
    "tags": []
   },
   "outputs": [
    {
     "name": "stdout",
     "output_type": "stream",
     "text": [
      "9919\n"
     ]
    }
   ],
   "source": [
    "word_index1 = tokenizer1.word_index\n",
    "print(len(word_index1))"
   ]
  },
  {
   "cell_type": "code",
   "execution_count": 16,
   "id": "c859c278",
   "metadata": {
    "execution": {
     "iopub.execute_input": "2022-05-15T15:22:06.203789Z",
     "iopub.status.busy": "2022-05-15T15:22:06.203545Z",
     "iopub.status.idle": "2022-05-15T15:22:08.828882Z",
     "shell.execute_reply": "2022-05-15T15:22:08.826945Z"
    },
    "papermill": {
     "duration": 2.677299,
     "end_time": "2022-05-15T15:22:08.830942",
     "exception": false,
     "start_time": "2022-05-15T15:22:06.153643",
     "status": "completed"
    },
    "tags": []
   },
   "outputs": [
    {
     "name": "stdout",
     "output_type": "stream",
     "text": [
      "(12464, 300)\n"
     ]
    }
   ],
   "source": [
    "text_sequences_tr = tokenizer.texts_to_sequences(train_t)\n",
    "text_padded_tr = pad_sequences(text_sequences_tr,maxlen=300,padding = 'post')\n",
    "\n",
    "print(text_padded_tr.shape)"
   ]
  },
  {
   "cell_type": "code",
   "execution_count": 17,
   "id": "d33421a4",
   "metadata": {
    "execution": {
     "iopub.execute_input": "2022-05-15T15:22:08.929049Z",
     "iopub.status.busy": "2022-05-15T15:22:08.927566Z",
     "iopub.status.idle": "2022-05-15T15:22:09.582154Z",
     "shell.execute_reply": "2022-05-15T15:22:09.581122Z"
    },
    "papermill": {
     "duration": 0.706261,
     "end_time": "2022-05-15T15:22:09.584771",
     "exception": false,
     "start_time": "2022-05-15T15:22:08.878510",
     "status": "completed"
    },
    "tags": []
   },
   "outputs": [
    {
     "name": "stdout",
     "output_type": "stream",
     "text": [
      "(12464, 60)\n"
     ]
    }
   ],
   "source": [
    "summary_sequences_tr = tokenizer1.texts_to_sequences(train_s)\n",
    "summary_padded_tr = pad_sequences(summary_sequences_tr,maxlen=60,padding = 'post')\n",
    "\n",
    "print(summary_padded_tr.shape)"
   ]
  },
  {
   "cell_type": "code",
   "execution_count": 18,
   "id": "8eb61009",
   "metadata": {
    "execution": {
     "iopub.execute_input": "2022-05-15T15:22:09.683604Z",
     "iopub.status.busy": "2022-05-15T15:22:09.682822Z",
     "iopub.status.idle": "2022-05-15T15:22:10.327074Z",
     "shell.execute_reply": "2022-05-15T15:22:10.325727Z"
    },
    "papermill": {
     "duration": 0.696067,
     "end_time": "2022-05-15T15:22:10.329973",
     "exception": false,
     "start_time": "2022-05-15T15:22:09.633906",
     "status": "completed"
    },
    "tags": []
   },
   "outputs": [
    {
     "name": "stdout",
     "output_type": "stream",
     "text": [
      "(2200, 300)\n"
     ]
    }
   ],
   "source": [
    "text_sequences_te = tokenizer1.texts_to_sequences(test_t)\n",
    "text_padded_te = pad_sequences(text_sequences_te,maxlen=300,padding = 'post')\n",
    "\n",
    "print(text_padded_te.shape)"
   ]
  },
  {
   "cell_type": "code",
   "execution_count": 19,
   "id": "cefbb273",
   "metadata": {
    "execution": {
     "iopub.execute_input": "2022-05-15T15:22:10.490941Z",
     "iopub.status.busy": "2022-05-15T15:22:10.490622Z",
     "iopub.status.idle": "2022-05-15T15:22:10.644367Z",
     "shell.execute_reply": "2022-05-15T15:22:10.643450Z"
    },
    "papermill": {
     "duration": 0.236459,
     "end_time": "2022-05-15T15:22:10.646603",
     "exception": false,
     "start_time": "2022-05-15T15:22:10.410144",
     "status": "completed"
    },
    "tags": []
   },
   "outputs": [
    {
     "name": "stdout",
     "output_type": "stream",
     "text": [
      "(2200, 60)\n"
     ]
    }
   ],
   "source": [
    "summary_sequences_te = tokenizer.texts_to_sequences(test_s)\n",
    "summary_padded_te = pad_sequences(summary_sequences_te,maxlen=60,padding = 'post')\n",
    "\n",
    "print(summary_padded_te.shape)"
   ]
  },
  {
   "cell_type": "code",
   "execution_count": 20,
   "id": "4741ae81",
   "metadata": {
    "execution": {
     "iopub.execute_input": "2022-05-15T15:22:10.753013Z",
     "iopub.status.busy": "2022-05-15T15:22:10.752767Z",
     "iopub.status.idle": "2022-05-15T15:22:10.756755Z",
     "shell.execute_reply": "2022-05-15T15:22:10.755978Z"
    },
    "papermill": {
     "duration": 0.055858,
     "end_time": "2022-05-15T15:22:10.758752",
     "exception": false,
     "start_time": "2022-05-15T15:22:10.702894",
     "status": "completed"
    },
    "tags": []
   },
   "outputs": [],
   "source": [
    "x_train=text_padded_tr\n",
    "y_train=summary_padded_tr\n",
    "x_test=text_padded_te\n",
    "y_test=summary_padded_te"
   ]
  },
  {
   "cell_type": "code",
   "execution_count": 21,
   "id": "ddd600ab",
   "metadata": {
    "execution": {
     "iopub.execute_input": "2022-05-15T15:22:10.857897Z",
     "iopub.status.busy": "2022-05-15T15:22:10.857666Z",
     "iopub.status.idle": "2022-05-15T15:22:10.862176Z",
     "shell.execute_reply": "2022-05-15T15:22:10.861428Z"
    },
    "papermill": {
     "duration": 0.056307,
     "end_time": "2022-05-15T15:22:10.864069",
     "exception": false,
     "start_time": "2022-05-15T15:22:10.807762",
     "status": "completed"
    },
    "tags": []
   },
   "outputs": [],
   "source": [
    "from tensorflow.keras.layers import Input, LSTM, Embedding, Dense, Concatenate, TimeDistributed,GRU\n",
    "from tensorflow.keras.models import Model\n",
    "from tensorflow.keras.callbacks import EarlyStopping\n",
    "import tensorflow as tf"
   ]
  },
  {
   "cell_type": "code",
   "execution_count": 22,
   "id": "bd72d328",
   "metadata": {
    "execution": {
     "iopub.execute_input": "2022-05-15T15:22:10.963030Z",
     "iopub.status.busy": "2022-05-15T15:22:10.962800Z",
     "iopub.status.idle": "2022-05-15T15:22:13.418611Z",
     "shell.execute_reply": "2022-05-15T15:22:13.416926Z"
    },
    "papermill": {
     "duration": 2.507365,
     "end_time": "2022-05-15T15:22:13.420566",
     "exception": false,
     "start_time": "2022-05-15T15:22:10.913201",
     "status": "completed"
    },
    "tags": []
   },
   "outputs": [
    {
     "name": "stderr",
     "output_type": "stream",
     "text": [
      "2022-05-15 15:22:11.033527: I tensorflow/stream_executor/cuda/cuda_gpu_executor.cc:937] successful NUMA node read from SysFS had negative value (-1), but there must be at least one NUMA node, so returning NUMA node zero\n",
      "2022-05-15 15:22:11.141014: I tensorflow/stream_executor/cuda/cuda_gpu_executor.cc:937] successful NUMA node read from SysFS had negative value (-1), but there must be at least one NUMA node, so returning NUMA node zero\n",
      "2022-05-15 15:22:11.141892: I tensorflow/stream_executor/cuda/cuda_gpu_executor.cc:937] successful NUMA node read from SysFS had negative value (-1), but there must be at least one NUMA node, so returning NUMA node zero\n",
      "2022-05-15 15:22:11.146506: I tensorflow/core/platform/cpu_feature_guard.cc:142] This TensorFlow binary is optimized with oneAPI Deep Neural Network Library (oneDNN) to use the following CPU instructions in performance-critical operations:  AVX2 AVX512F FMA\n",
      "To enable them in other operations, rebuild TensorFlow with the appropriate compiler flags.\n",
      "2022-05-15 15:22:11.146876: I tensorflow/stream_executor/cuda/cuda_gpu_executor.cc:937] successful NUMA node read from SysFS had negative value (-1), but there must be at least one NUMA node, so returning NUMA node zero\n",
      "2022-05-15 15:22:11.147916: I tensorflow/stream_executor/cuda/cuda_gpu_executor.cc:937] successful NUMA node read from SysFS had negative value (-1), but there must be at least one NUMA node, so returning NUMA node zero\n",
      "2022-05-15 15:22:11.148781: I tensorflow/stream_executor/cuda/cuda_gpu_executor.cc:937] successful NUMA node read from SysFS had negative value (-1), but there must be at least one NUMA node, so returning NUMA node zero\n",
      "2022-05-15 15:22:13.068477: I tensorflow/stream_executor/cuda/cuda_gpu_executor.cc:937] successful NUMA node read from SysFS had negative value (-1), but there must be at least one NUMA node, so returning NUMA node zero\n",
      "2022-05-15 15:22:13.069458: I tensorflow/stream_executor/cuda/cuda_gpu_executor.cc:937] successful NUMA node read from SysFS had negative value (-1), but there must be at least one NUMA node, so returning NUMA node zero\n",
      "2022-05-15 15:22:13.070239: I tensorflow/stream_executor/cuda/cuda_gpu_executor.cc:937] successful NUMA node read from SysFS had negative value (-1), but there must be at least one NUMA node, so returning NUMA node zero\n",
      "2022-05-15 15:22:13.071627: I tensorflow/core/common_runtime/gpu/gpu_device.cc:1510] Created device /job:localhost/replica:0/task:0/device:GPU:0 with 15403 MB memory:  -> device: 0, name: Tesla P100-PCIE-16GB, pci bus id: 0000:00:04.0, compute capability: 6.0\n"
     ]
    }
   ],
   "source": [
    "BUFFER_SIZE = len(x_train)\n",
    "BATCH_SIZE = 32\n",
    "steps_per_epoch = len(x_train)//BATCH_SIZE\n",
    "embedding_dim = 300\n",
    "units = 128\n",
    "vocab_inp_size = len(tokenizer.word_index)+1\n",
    "vocab_tar_size = len(tokenizer1.word_index)+1\n",
    "\n",
    "dataset = tf.data.Dataset.from_tensor_slices((x_train, y_train)).shuffle(BUFFER_SIZE)\n",
    "dataset = dataset.batch(BATCH_SIZE, drop_remainder=True)"
   ]
  },
  {
   "cell_type": "code",
   "execution_count": 23,
   "id": "549135d6",
   "metadata": {
    "execution": {
     "iopub.execute_input": "2022-05-15T15:22:13.521031Z",
     "iopub.status.busy": "2022-05-15T15:22:13.520807Z",
     "iopub.status.idle": "2022-05-15T15:22:13.592848Z",
     "shell.execute_reply": "2022-05-15T15:22:13.591952Z"
    },
    "papermill": {
     "duration": 0.124583,
     "end_time": "2022-05-15T15:22:13.595104",
     "exception": false,
     "start_time": "2022-05-15T15:22:13.470521",
     "status": "completed"
    },
    "tags": []
   },
   "outputs": [
    {
     "data": {
      "text/plain": [
       "(TensorShape([32, 300]), TensorShape([32, 60]))"
      ]
     },
     "execution_count": 23,
     "metadata": {},
     "output_type": "execute_result"
    }
   ],
   "source": [
    "example_input_batch, example_target_batch = next(iter(dataset))\n",
    "example_input_batch.shape, example_target_batch.shape"
   ]
  },
  {
   "cell_type": "code",
   "execution_count": 24,
   "id": "2c90d5ca",
   "metadata": {
    "execution": {
     "iopub.execute_input": "2022-05-15T15:22:13.696438Z",
     "iopub.status.busy": "2022-05-15T15:22:13.695999Z",
     "iopub.status.idle": "2022-05-15T15:22:13.703825Z",
     "shell.execute_reply": "2022-05-15T15:22:13.703099Z"
    },
    "papermill": {
     "duration": 0.060732,
     "end_time": "2022-05-15T15:22:13.705689",
     "exception": false,
     "start_time": "2022-05-15T15:22:13.644957",
     "status": "completed"
    },
    "tags": []
   },
   "outputs": [],
   "source": [
    "import tensorflow as tf\n",
    "class Encoder(tf.keras.Model):\n",
    "    def __init__(self, vocab_size, embedding_dim, enc_units, batch_sz):\n",
    "        super(Encoder, self).__init__()\n",
    "        self.batch_sz = batch_sz\n",
    "        self.enc_units = enc_units\n",
    "        self.embedding = tf.keras.layers.Embedding(vocab_size, embedding_dim)\n",
    "        self.gru = tf.keras.layers.GRU(self.enc_units,\n",
    "                                   return_sequences=True,\n",
    "                                   return_state=True,\n",
    "                                   recurrent_initializer='glorot_uniform')\n",
    "\n",
    "    def call(self, x, hidden):\n",
    "        x = self.embedding(x)\n",
    "        output, state = self.gru(x, initial_state = hidden)\n",
    "        return output, state\n",
    "\n",
    "    def initialize_hidden_state(self):\n",
    "        return tf.zeros((self.batch_sz, self.enc_units))"
   ]
  },
  {
   "cell_type": "code",
   "execution_count": 25,
   "id": "03428e80",
   "metadata": {
    "execution": {
     "iopub.execute_input": "2022-05-15T15:22:13.806799Z",
     "iopub.status.busy": "2022-05-15T15:22:13.806574Z",
     "iopub.status.idle": "2022-05-15T15:22:14.738902Z",
     "shell.execute_reply": "2022-05-15T15:22:14.737377Z"
    },
    "papermill": {
     "duration": 0.986632,
     "end_time": "2022-05-15T15:22:14.742126",
     "exception": false,
     "start_time": "2022-05-15T15:22:13.755494",
     "status": "completed"
    },
    "tags": []
   },
   "outputs": [
    {
     "name": "stderr",
     "output_type": "stream",
     "text": [
      "2022-05-15 15:22:14.529952: I tensorflow/stream_executor/cuda/cuda_dnn.cc:369] Loaded cuDNN version 8005\n"
     ]
    },
    {
     "name": "stdout",
     "output_type": "stream",
     "text": [
      "Encoder output shape: (batch size, sequence length, units) (32, 300, 128)\n",
      "Encoder Hidden state shape: (batch size, units) (32, 128)\n"
     ]
    }
   ],
   "source": [
    "encoder = Encoder(vocab_inp_size, embedding_dim, units, BATCH_SIZE)\n",
    "\n",
    "# sample input\n",
    "sample_hidden = encoder.initialize_hidden_state()\n",
    "sample_output, sample_hidden = encoder(example_input_batch, sample_hidden)\n",
    "print ('Encoder output shape: (batch size, sequence length, units) {}'.format(sample_output.shape))\n",
    "print ('Encoder Hidden state shape: (batch size, units) {}'.format(sample_hidden.shape))"
   ]
  },
  {
   "cell_type": "code",
   "execution_count": 26,
   "id": "8c98b3b8",
   "metadata": {
    "execution": {
     "iopub.execute_input": "2022-05-15T15:22:14.846734Z",
     "iopub.status.busy": "2022-05-15T15:22:14.846075Z",
     "iopub.status.idle": "2022-05-15T15:22:14.853606Z",
     "shell.execute_reply": "2022-05-15T15:22:14.852838Z"
    },
    "papermill": {
     "duration": 0.060457,
     "end_time": "2022-05-15T15:22:14.855538",
     "exception": false,
     "start_time": "2022-05-15T15:22:14.795081",
     "status": "completed"
    },
    "tags": []
   },
   "outputs": [],
   "source": [
    "class BahdanauAttention(tf.keras.layers.Layer):\n",
    "    def __init__(self, units):\n",
    "        super(BahdanauAttention, self).__init__()\n",
    "        self.W1 = tf.keras.layers.Dense(units)\n",
    "        self.W2 = tf.keras.layers.Dense(units)\n",
    "        self.V = tf.keras.layers.Dense(1)\n",
    "\n",
    "    def call(self, query, values):\n",
    "    \n",
    "        query_with_time_axis = tf.expand_dims(query, 1)\n",
    "\n",
    "        score = self.V(tf.nn.tanh(\n",
    "        self.W1(query_with_time_axis) + self.W2(values)))\n",
    "\n",
    "        attention_weights = tf.nn.softmax(score, axis=1)\n",
    "\n",
    "        context_vector = attention_weights * values\n",
    "        context_vector = tf.reduce_sum(context_vector, axis=1)\n",
    "\n",
    "        return context_vector, attention_weights"
   ]
  },
  {
   "cell_type": "code",
   "execution_count": 27,
   "id": "10a41d92",
   "metadata": {
    "execution": {
     "iopub.execute_input": "2022-05-15T15:22:14.959575Z",
     "iopub.status.busy": "2022-05-15T15:22:14.958895Z",
     "iopub.status.idle": "2022-05-15T15:22:15.844160Z",
     "shell.execute_reply": "2022-05-15T15:22:15.841808Z"
    },
    "papermill": {
     "duration": 0.940281,
     "end_time": "2022-05-15T15:22:15.846138",
     "exception": false,
     "start_time": "2022-05-15T15:22:14.905857",
     "status": "completed"
    },
    "tags": []
   },
   "outputs": [
    {
     "name": "stdout",
     "output_type": "stream",
     "text": [
      "Attention result shape: (batch size, units) (32, 128)\n",
      "Attention weights shape: (batch_size, sequence_length, 1) (32, 300, 1)\n"
     ]
    }
   ],
   "source": [
    "attention_layer = BahdanauAttention(10)\n",
    "attention_result, attention_weights = attention_layer(sample_hidden, sample_output)\n",
    "\n",
    "print(\"Attention result shape: (batch size, units) {}\".format(attention_result.shape))\n",
    "print(\"Attention weights shape: (batch_size, sequence_length, 1) {}\".format(attention_weights.shape))"
   ]
  },
  {
   "cell_type": "code",
   "execution_count": 28,
   "id": "33b980b7",
   "metadata": {
    "execution": {
     "iopub.execute_input": "2022-05-15T15:22:15.947768Z",
     "iopub.status.busy": "2022-05-15T15:22:15.947086Z",
     "iopub.status.idle": "2022-05-15T15:22:15.956568Z",
     "shell.execute_reply": "2022-05-15T15:22:15.955763Z"
    },
    "papermill": {
     "duration": 0.062058,
     "end_time": "2022-05-15T15:22:15.958437",
     "exception": false,
     "start_time": "2022-05-15T15:22:15.896379",
     "status": "completed"
    },
    "tags": []
   },
   "outputs": [],
   "source": [
    "class Decoder(tf.keras.Model):\n",
    "    def __init__(self, vocab_size, embedding_dim, dec_units, batch_sz):\n",
    "        super(Decoder, self).__init__()\n",
    "        self.batch_sz = batch_sz\n",
    "        self.dec_units = dec_units\n",
    "        self.embedding = tf.keras.layers.Embedding(vocab_size, embedding_dim)\n",
    "        self.gru = tf.keras.layers.GRU(self.dec_units,\n",
    "                                   return_sequences=True,\n",
    "                                   return_state=True,\n",
    "                                   recurrent_initializer='glorot_uniform')\n",
    "        self.fc = tf.keras.layers.Dense(vocab_size)\n",
    "        self.attention = BahdanauAttention(self.dec_units)\n",
    "\n",
    "    def call(self, x, hidden, enc_output):\n",
    "    \n",
    "        context_vector, attention_weights = self.attention(hidden, enc_output)\n",
    "\n",
    "    \n",
    "        x = self.embedding(x)\n",
    "\n",
    "   \n",
    "        x = tf.concat([tf.expand_dims(context_vector, 1), x], axis=-1)\n",
    "\n",
    "    \n",
    "        output, state = self.gru(x)\n",
    "\n",
    "    \n",
    "        output = tf.reshape(output, (-1, output.shape[2]))\n",
    "\n",
    "    \n",
    "        x = self.fc(output)\n",
    "\n",
    "        return x, state, attention_weights"
   ]
  },
  {
   "cell_type": "code",
   "execution_count": 29,
   "id": "5e5560d2",
   "metadata": {
    "execution": {
     "iopub.execute_input": "2022-05-15T15:22:16.063086Z",
     "iopub.status.busy": "2022-05-15T15:22:16.062506Z",
     "iopub.status.idle": "2022-05-15T15:22:16.104352Z",
     "shell.execute_reply": "2022-05-15T15:22:16.103561Z"
    },
    "papermill": {
     "duration": 0.097126,
     "end_time": "2022-05-15T15:22:16.106774",
     "exception": false,
     "start_time": "2022-05-15T15:22:16.009648",
     "status": "completed"
    },
    "tags": []
   },
   "outputs": [
    {
     "name": "stdout",
     "output_type": "stream",
     "text": [
      "Decoder output shape: (batch_size, vocab size) (32, 9920)\n"
     ]
    }
   ],
   "source": [
    "decoder = Decoder(vocab_tar_size, embedding_dim, units, BATCH_SIZE)\n",
    "\n",
    "sample_decoder_output, _, _ = decoder(tf.random.uniform((BATCH_SIZE, 1)),\n",
    "                                      sample_hidden, sample_output)\n",
    "\n",
    "print ('Decoder output shape: (batch_size, vocab size) {}'.format(sample_decoder_output.shape))"
   ]
  },
  {
   "cell_type": "code",
   "execution_count": 30,
   "id": "ca29e1e6",
   "metadata": {
    "execution": {
     "iopub.execute_input": "2022-05-15T15:22:16.212414Z",
     "iopub.status.busy": "2022-05-15T15:22:16.211684Z",
     "iopub.status.idle": "2022-05-15T15:22:16.218466Z",
     "shell.execute_reply": "2022-05-15T15:22:16.217643Z"
    },
    "papermill": {
     "duration": 0.061803,
     "end_time": "2022-05-15T15:22:16.220424",
     "exception": false,
     "start_time": "2022-05-15T15:22:16.158621",
     "status": "completed"
    },
    "tags": []
   },
   "outputs": [],
   "source": [
    "optimizer = tf.keras.optimizers.Adam()\n",
    "loss_object = tf.keras.losses.SparseCategoricalCrossentropy(\n",
    "    from_logits=True, reduction='none')\n",
    "\n",
    "def loss_function(real, pred):\n",
    "    mask = tf.math.logical_not(tf.math.equal(real, 0))\n",
    "    loss_ = loss_object(real, pred)\n",
    "\n",
    "    mask = tf.cast(mask, dtype=loss_.dtype)\n",
    "    loss_ *= mask\n",
    "\n",
    "    return tf.reduce_mean(loss_)"
   ]
  },
  {
   "cell_type": "code",
   "execution_count": 31,
   "id": "262ed4fc",
   "metadata": {
    "execution": {
     "iopub.execute_input": "2022-05-15T15:22:16.327727Z",
     "iopub.status.busy": "2022-05-15T15:22:16.326363Z",
     "iopub.status.idle": "2022-05-15T15:22:16.331767Z",
     "shell.execute_reply": "2022-05-15T15:22:16.330999Z"
    },
    "papermill": {
     "duration": 0.060631,
     "end_time": "2022-05-15T15:22:16.333618",
     "exception": false,
     "start_time": "2022-05-15T15:22:16.272987",
     "status": "completed"
    },
    "tags": []
   },
   "outputs": [],
   "source": [
    "checkpoint_dir = './training_checkpoints'\n",
    "checkpoint_prefix = os.path.join(checkpoint_dir, \"ckpt\")\n",
    "checkpoint = tf.train.Checkpoint(optimizer=optimizer,\n",
    "                                 encoder=encoder,\n",
    "                                 decoder=decoder)"
   ]
  },
  {
   "cell_type": "code",
   "execution_count": 32,
   "id": "9fe8d16a",
   "metadata": {
    "execution": {
     "iopub.execute_input": "2022-05-15T15:22:16.436432Z",
     "iopub.status.busy": "2022-05-15T15:22:16.435715Z",
     "iopub.status.idle": "2022-05-15T15:22:16.444222Z",
     "shell.execute_reply": "2022-05-15T15:22:16.443465Z"
    },
    "papermill": {
     "duration": 0.061843,
     "end_time": "2022-05-15T15:22:16.446076",
     "exception": false,
     "start_time": "2022-05-15T15:22:16.384233",
     "status": "completed"
    },
    "tags": []
   },
   "outputs": [],
   "source": [
    "@tf.function\n",
    "def train_step(inp, targ, enc_hidden):\n",
    "    loss = 0\n",
    "    with tf.GradientTape() as tape:\n",
    "        enc_output, enc_hidden = encoder(inp, enc_hidden)\n",
    "        dec_hidden = enc_hidden\n",
    "\n",
    "        dec_input = tf.expand_dims([tokenizer1.word_index['<start>']] * BATCH_SIZE, 1)\n",
    "        for t in range(1, targ.shape[1]):\n",
    "            predictions, dec_hidden, _ = decoder(dec_input, dec_hidden, enc_output)\n",
    "            loss += loss_function(targ[:, t], predictions)\n",
    "            dec_input = tf.expand_dims(targ[:, t], 1)\n",
    "\n",
    "    batch_loss = (loss / int(targ.shape[1]))\n",
    "\n",
    "    variables = encoder.trainable_variables + decoder.trainable_variables\n",
    "    gradients = tape.gradient(loss, variables)\n",
    "   \n",
    "    optimizer.apply_gradients(zip(gradients, variables))\n",
    "\n",
    "    return batch_loss"
   ]
  },
  {
   "cell_type": "code",
   "execution_count": 33,
   "id": "ba415edb",
   "metadata": {
    "execution": {
     "iopub.execute_input": "2022-05-15T15:22:16.549380Z",
     "iopub.status.busy": "2022-05-15T15:22:16.548764Z",
     "iopub.status.idle": "2022-05-15T15:32:51.150983Z",
     "shell.execute_reply": "2022-05-15T15:32:51.147672Z"
    },
    "papermill": {
     "duration": 634.71125,
     "end_time": "2022-05-15T15:32:51.208332",
     "exception": false,
     "start_time": "2022-05-15T15:22:16.497082",
     "status": "completed"
    },
    "tags": []
   },
   "outputs": [
    {
     "name": "stderr",
     "output_type": "stream",
     "text": [
      "2022-05-15 15:23:13.238739: I tensorflow/compiler/mlir/mlir_graph_optimization_pass.cc:185] None of the MLIR Optimization Passes are enabled (registered 2)\n"
     ]
    },
    {
     "name": "stdout",
     "output_type": "stream",
     "text": [
      "Epoch 1 Loss 3.0315\n",
      "Time taken for 1 epoch 126.69849348068237 sec\n",
      "\n",
      "Epoch 2 Loss 2.8673\n",
      "Time taken for 1 epoch 56.49686408042908 sec\n",
      "\n",
      "Epoch 3 Loss 2.7239\n",
      "Time taken for 1 epoch 56.35508942604065 sec\n",
      "\n",
      "Epoch 4 Loss 2.5748\n",
      "Time taken for 1 epoch 56.56177496910095 sec\n",
      "\n",
      "Epoch 5 Loss 2.4367\n",
      "Time taken for 1 epoch 56.099013328552246 sec\n",
      "\n",
      "Epoch 6 Loss 2.3213\n",
      "Time taken for 1 epoch 56.57333993911743 sec\n",
      "\n",
      "Epoch 7 Loss 2.2280\n",
      "Time taken for 1 epoch 56.108662366867065 sec\n",
      "\n",
      "Epoch 8 Loss 2.1463\n",
      "Time taken for 1 epoch 56.81694769859314 sec\n",
      "\n",
      "Epoch 9 Loss 2.0731\n",
      "Time taken for 1 epoch 56.21662187576294 sec\n",
      "\n",
      "Epoch 10 Loss 2.0032\n",
      "Time taken for 1 epoch 56.66279196739197 sec\n",
      "\n"
     ]
    }
   ],
   "source": [
    "EPOCHS = 10\n",
    "import time\n",
    "for epoch in range(EPOCHS):\n",
    "    start = time.time()\n",
    "\n",
    "    enc_hidden = encoder.initialize_hidden_state()\n",
    "    total_loss = 0\n",
    "\n",
    "    for (batch, (inp, targ)) in enumerate(dataset.take(steps_per_epoch)):\n",
    "        batch_loss = train_step(inp, targ, enc_hidden)\n",
    "        total_loss += batch_loss\n",
    "        \n",
    "\n",
    "    if batch % 100 == 0:\n",
    "        print('Epoch {} Batch {} Loss {:.4f}'.format(epoch + 1,\n",
    "                                                   batch,\n",
    "                                                   batch_loss.numpy()))\n",
    "    if (epoch + 1) % 2 == 0:\n",
    "        checkpoint.save(file_prefix = checkpoint_prefix)\n",
    "\n",
    "    print('Epoch {} Loss {:.4f}'.format(epoch + 1,\n",
    "                                      total_loss / steps_per_epoch))\n",
    "    print('Time taken for 1 epoch {} sec\\n'.format(time.time() - start))"
   ]
  },
  {
   "cell_type": "code",
   "execution_count": 34,
   "id": "9c20d113",
   "metadata": {
    "execution": {
     "iopub.execute_input": "2022-05-15T15:32:51.324563Z",
     "iopub.status.busy": "2022-05-15T15:32:51.324291Z",
     "iopub.status.idle": "2022-05-15T15:32:51.333820Z",
     "shell.execute_reply": "2022-05-15T15:32:51.332912Z"
    },
    "papermill": {
     "duration": 0.06903,
     "end_time": "2022-05-15T15:32:51.336150",
     "exception": false,
     "start_time": "2022-05-15T15:32:51.267120",
     "status": "completed"
    },
    "tags": []
   },
   "outputs": [],
   "source": [
    "def evaluate(sentence):\n",
    "    #attention_plot = np.zeros((max_length_targ, max_length_inp))\n",
    "\n",
    "    #sentence = preprocess_sentence(sentence)\n",
    "\n",
    "    inputs = [tokenizer.word_index[i] for i in sentence.split(' ')]\n",
    "    inputs = tf.keras.preprocessing.sequence.pad_sequences([inputs],\n",
    "                                                         maxlen=150,\n",
    "                                                         padding='post')\n",
    "    inputs = tf.convert_to_tensor(inputs)\n",
    "\n",
    "    result = ''\n",
    "\n",
    "    hidden = [tf.zeros((1, units))]\n",
    "    enc_out, enc_hidden = encoder(inputs, hidden)\n",
    "\n",
    "    dec_hidden = enc_hidden\n",
    "    dec_input = tf.expand_dims([tokenizer1.word_index['<start>']], 0)\n",
    "\n",
    "    for t in range(10):\n",
    "        predictions, dec_hidden , attention_weights = decoder(dec_input,\n",
    "                                                         dec_hidden,\n",
    "                                                         enc_out)\n",
    "\n",
    "    \n",
    "        #attention_weights = tf.reshape(attention_weights, (-1, ))\n",
    "        #attention_plot[t] = attention_weights.numpy()\n",
    "\n",
    "        predicted_id = tf.argmax(predictions[0]).numpy()\n",
    "\n",
    "        result += tokenizer1.index_word[predicted_id] + ' '\n",
    "\n",
    "        if tokenizer1.index_word[predicted_id] == '<end>':\n",
    "            return result, sentence\n",
    "        #, attention_plot\n",
    "\n",
    "    \n",
    "        dec_input = tf.expand_dims([predicted_id], 0)\n",
    "\n",
    "    return result, sentence"
   ]
  },
  {
   "cell_type": "code",
   "execution_count": 35,
   "id": "d3a3b870",
   "metadata": {
    "execution": {
     "iopub.execute_input": "2022-05-15T15:32:51.447440Z",
     "iopub.status.busy": "2022-05-15T15:32:51.447203Z",
     "iopub.status.idle": "2022-05-15T15:32:51.451085Z",
     "shell.execute_reply": "2022-05-15T15:32:51.450220Z"
    },
    "papermill": {
     "duration": 0.061852,
     "end_time": "2022-05-15T15:32:51.453424",
     "exception": false,
     "start_time": "2022-05-15T15:32:51.391572",
     "status": "completed"
    },
    "tags": []
   },
   "outputs": [],
   "source": [
    "def translate(sentence):\n",
    "    result, sentence= evaluate(sentence)\n",
    "    return result"
   ]
  },
  {
   "cell_type": "code",
   "execution_count": 36,
   "id": "88f01f0c",
   "metadata": {
    "execution": {
     "iopub.execute_input": "2022-05-15T15:32:51.565807Z",
     "iopub.status.busy": "2022-05-15T15:32:51.565558Z",
     "iopub.status.idle": "2022-05-15T15:32:51.745813Z",
     "shell.execute_reply": "2022-05-15T15:32:51.745006Z"
    },
    "papermill": {
     "duration": 0.239079,
     "end_time": "2022-05-15T15:32:51.747934",
     "exception": false,
     "start_time": "2022-05-15T15:32:51.508855",
     "status": "completed"
    },
    "tags": []
   },
   "outputs": [
    {
     "data": {
      "text/plain": [
       "<tensorflow.python.training.tracking.util.CheckpointLoadStatus at 0x7f58d0d23c50>"
      ]
     },
     "execution_count": 36,
     "metadata": {},
     "output_type": "execute_result"
    }
   ],
   "source": [
    "checkpoint.restore(tf.train.latest_checkpoint(checkpoint_dir))"
   ]
  },
  {
   "cell_type": "code",
   "execution_count": 37,
   "id": "d53cfa35",
   "metadata": {
    "execution": {
     "iopub.execute_input": "2022-05-15T15:32:51.866700Z",
     "iopub.status.busy": "2022-05-15T15:32:51.866443Z",
     "iopub.status.idle": "2022-05-15T15:32:51.966658Z",
     "shell.execute_reply": "2022-05-15T15:32:51.965907Z"
    },
    "papermill": {
     "duration": 0.161946,
     "end_time": "2022-05-15T15:32:51.968572",
     "exception": false,
     "start_time": "2022-05-15T15:32:51.806626",
     "status": "completed"
    },
    "tags": []
   },
   "outputs": [
    {
     "data": {
      "text/plain": [
       "'một người dân chủ tịch quốc gia đình ông nguyễn '"
      ]
     },
     "execution_count": 37,
     "metadata": {},
     "output_type": "execute_result"
    }
   ],
   "source": [
    "translate(text[0])"
   ]
  },
  {
   "cell_type": "code",
   "execution_count": 38,
   "id": "9d401c3b",
   "metadata": {
    "execution": {
     "iopub.execute_input": "2022-05-15T15:32:52.083208Z",
     "iopub.status.busy": "2022-05-15T15:32:52.082922Z",
     "iopub.status.idle": "2022-05-15T15:32:52.088656Z",
     "shell.execute_reply": "2022-05-15T15:32:52.087748Z"
    },
    "papermill": {
     "duration": 0.066341,
     "end_time": "2022-05-15T15:32:52.091676",
     "exception": false,
     "start_time": "2022-05-15T15:32:52.025335",
     "status": "completed"
    },
    "tags": []
   },
   "outputs": [
    {
     "data": {
      "text/plain": [
       "'<start> thủ tướng iraq xác nhận với bbc rằng syria không kích quân nổi dậy isis trên lãnh thổ iraq <end>'"
      ]
     },
     "execution_count": 38,
     "metadata": {},
     "output_type": "execute_result"
    }
   ],
   "source": [
    "summary[0]"
   ]
  },
  {
   "cell_type": "code",
   "execution_count": 39,
   "id": "fd840e49",
   "metadata": {
    "execution": {
     "iopub.execute_input": "2022-05-15T15:32:52.206355Z",
     "iopub.status.busy": "2022-05-15T15:32:52.206047Z",
     "iopub.status.idle": "2022-05-15T15:32:58.335165Z",
     "shell.execute_reply": "2022-05-15T15:32:58.334295Z"
    },
    "papermill": {
     "duration": 6.189122,
     "end_time": "2022-05-15T15:32:58.337756",
     "exception": false,
     "start_time": "2022-05-15T15:32:52.148634",
     "status": "completed"
    },
    "tags": []
   },
   "outputs": [],
   "source": [
    "reference = []\n",
    "hypothesis = []\n",
    "\n",
    "for i in range(0, 100):\n",
    "    reference.append(summary[i])\n",
    "    hypothesis.append(translate(text[i]))"
   ]
  },
  {
   "cell_type": "code",
   "execution_count": 40,
   "id": "5538a4d2",
   "metadata": {
    "execution": {
     "iopub.execute_input": "2022-05-15T15:32:58.451845Z",
     "iopub.status.busy": "2022-05-15T15:32:58.451598Z",
     "iopub.status.idle": "2022-05-15T15:33:12.760266Z",
     "shell.execute_reply": "2022-05-15T15:33:12.759226Z"
    },
    "papermill": {
     "duration": 14.368552,
     "end_time": "2022-05-15T15:33:12.762766",
     "exception": false,
     "start_time": "2022-05-15T15:32:58.394214",
     "status": "completed"
    },
    "tags": []
   },
   "outputs": [
    {
     "name": "stdout",
     "output_type": "stream",
     "text": [
      "Collecting rouge\r\n",
      "  Downloading rouge-1.0.1-py3-none-any.whl (13 kB)\r\n",
      "Requirement already satisfied: six in /opt/conda/lib/python3.7/site-packages (from rouge) (1.16.0)\r\n",
      "Installing collected packages: rouge\r\n",
      "Successfully installed rouge-1.0.1\r\n",
      "\u001b[33mWARNING: Running pip as the 'root' user can result in broken permissions and conflicting behaviour with the system package manager. It is recommended to use a virtual environment instead: https://pip.pypa.io/warnings/venv\u001b[0m\u001b[33m\r\n",
      "\u001b[0m"
     ]
    }
   ],
   "source": [
    "! pip install rouge"
   ]
  },
  {
   "cell_type": "code",
   "execution_count": 41,
   "id": "3003fb04",
   "metadata": {
    "execution": {
     "iopub.execute_input": "2022-05-15T15:33:12.899319Z",
     "iopub.status.busy": "2022-05-15T15:33:12.898490Z",
     "iopub.status.idle": "2022-05-15T15:33:12.910079Z",
     "shell.execute_reply": "2022-05-15T15:33:12.909211Z"
    },
    "papermill": {
     "duration": 0.082525,
     "end_time": "2022-05-15T15:33:12.912340",
     "exception": false,
     "start_time": "2022-05-15T15:33:12.829815",
     "status": "completed"
    },
    "tags": []
   },
   "outputs": [],
   "source": [
    "from rouge import Rouge"
   ]
  },
  {
   "cell_type": "code",
   "execution_count": 42,
   "id": "02830e30",
   "metadata": {
    "execution": {
     "iopub.execute_input": "2022-05-15T15:33:13.044546Z",
     "iopub.status.busy": "2022-05-15T15:33:13.043675Z",
     "iopub.status.idle": "2022-05-15T15:33:13.096926Z",
     "shell.execute_reply": "2022-05-15T15:33:13.096042Z"
    },
    "papermill": {
     "duration": 0.12185,
     "end_time": "2022-05-15T15:33:13.099177",
     "exception": false,
     "start_time": "2022-05-15T15:33:12.977327",
     "status": "completed"
    },
    "tags": []
   },
   "outputs": [
    {
     "data": {
      "text/plain": [
       "{'rouge-1': {'r': 0.06138372957884986,\n",
       "  'p': 0.2940833333333332,\n",
       "  'f': 0.09782600940095597},\n",
       " 'rouge-2': {'r': 0.007158214721295215,\n",
       "  'p': 0.03496428571428571,\n",
       "  'f': 0.011336435731047074},\n",
       " 'rouge-l': {'r': 0.057167042943802156,\n",
       "  'p': 0.27936111111111095,\n",
       "  'f': 0.09141344153475746}}"
      ]
     },
     "execution_count": 42,
     "metadata": {},
     "output_type": "execute_result"
    }
   ],
   "source": [
    "score = Rouge()\n",
    "score.get_scores(hypothesis, reference, avg = True)"
   ]
  }
 ],
 "metadata": {
  "kernelspec": {
   "display_name": "Python 3",
   "language": "python",
   "name": "python3"
  },
  "language_info": {
   "codemirror_mode": {
    "name": "ipython",
    "version": 3
   },
   "file_extension": ".py",
   "mimetype": "text/x-python",
   "name": "python",
   "nbconvert_exporter": "python",
   "pygments_lexer": "ipython3",
   "version": "3.7.12"
  },
  "papermill": {
   "default_parameters": {},
   "duration": 1260.828542,
   "end_time": "2022-05-15T15:33:15.988461",
   "environment_variables": {},
   "exception": null,
   "input_path": "__notebook__.ipynb",
   "output_path": "__notebook__.ipynb",
   "parameters": {},
   "start_time": "2022-05-15T15:12:15.159919",
   "version": "2.3.4"
  }
 },
 "nbformat": 4,
 "nbformat_minor": 5
}
